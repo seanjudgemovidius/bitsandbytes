{
 "metadata": {
  "name": "",
  "signature": "sha256:a9c745a10d3e2855e285ef45c80803518efbc0aac17ea230cd635e8049988152"
 },
 "nbformat": 3,
 "nbformat_minor": 0,
 "worksheets": [
  {
   "cells": [
    {
     "cell_type": "heading",
     "level": 1,
     "metadata": {},
     "source": [
      "Testing if GPU is being used"
     ]
    },
    {
     "cell_type": "code",
     "collapsed": false,
     "input": [
      "import sys\n",
      "sys.version\n",
      "sys.version_info\n"
     ],
     "language": "python",
     "metadata": {},
     "outputs": [
      {
       "metadata": {},
       "output_type": "pyout",
       "prompt_number": 4,
       "text": [
        "sys.version_info(major=3, minor=5, micro=2, releaselevel='final', serial=0)"
       ]
      }
     ],
     "prompt_number": 4
    },
    {
     "cell_type": "code",
     "collapsed": false,
     "input": [
      "import tensorflow as tf\n",
      "sess = tf.Session(config=tf.ConfigProto(log_device_placement=True))\n"
     ],
     "language": "python",
     "metadata": {},
     "outputs": [],
     "prompt_number": 2
    },
    {
     "cell_type": "code",
     "collapsed": false,
     "input": [
      "from tensorflow.python.client import device_lib\n",
      "\n",
      "print(device_lib.list_local_devices())\n",
      "\n",
      "from keras import backend as K\n",
      "K.tensorflow_backend._get_available_gpus()\n"
     ],
     "language": "python",
     "metadata": {},
     "outputs": [
      {
       "output_type": "stream",
       "stream": "stdout",
       "text": [
        "[name: \"/device:CPU:0\"\n",
        "device_type: \"CPU\"\n",
        "memory_limit: 268435456\n",
        "locality {\n",
        "}\n",
        "incarnation: 7544685734029369064\n",
        ", name: \"/device:GPU:0\"\n",
        "device_type: \"GPU\"\n",
        "memory_limit: 10618742375\n",
        "locality {\n",
        "  bus_id: 1\n",
        "  links {\n",
        "  }\n",
        "}\n",
        "incarnation: 13107089384820343240\n",
        "physical_device_desc: \"device: 0, name: GeForce GTX 1080 Ti, pci bus id: 0000:01:00.0, compute capability: 6.1\"\n",
        "]\n"
       ]
      },
      {
       "output_type": "stream",
       "stream": "stderr",
       "text": [
        "Using TensorFlow backend.\n"
       ]
      },
      {
       "metadata": {},
       "output_type": "pyout",
       "prompt_number": 3,
       "text": [
        "['/job:localhost/replica:0/task:0/device:GPU:0']"
       ]
      }
     ],
     "prompt_number": 3
    },
    {
     "cell_type": "code",
     "collapsed": false,
     "input": [
      "import sys\n",
      "sys.version\n",
      "sys.version_info\n"
     ],
     "language": "python",
     "metadata": {},
     "outputs": [
      {
       "metadata": {},
       "output_type": "pyout",
       "prompt_number": 4,
       "text": [
        "sys.version_info(major=3, minor=5, micro=2, releaselevel='final', serial=0)"
       ]
      }
     ],
     "prompt_number": 4
    }
   ],
   "metadata": {}
  }
 ]
}