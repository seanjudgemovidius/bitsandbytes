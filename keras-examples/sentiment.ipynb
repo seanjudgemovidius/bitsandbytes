{
 "metadata": {
  "name": "",
  "signature": "sha256:d253b0cb397e24f33f6ac7efbfd60d6af397909373b6afeaf7e67e8be8ea2378"
 },
 "nbformat": 3,
 "nbformat_minor": 0,
 "worksheets": [
  {
   "cells": [
    {
     "cell_type": "code",
     "collapsed": false,
     "input": [
      "%matplotlib inline\n",
      "\n",
      "import matplotlib\n",
      "import matplotlib.pyplot as plt\n",
      "import numpy as np\n",
      "from keras.utils import to_categorical\n",
      "from keras import models\n",
      "from keras import layers\n",
      "from keras_tqdm import TQDMNotebookCallback\n",
      "\n",
      "from keras.datasets import imdb\n",
      "(training_data, training_targets), (testing_data, testing_targets) = imdb.load_data(num_words=10000)\n",
      "data = np.concatenate((training_data, testing_data), axis=0)\n",
      "targets = np.concatenate((training_targets, testing_targets), axis=0)\n",
      "print(data.shape)"
     ],
     "language": "python",
     "metadata": {},
     "outputs": [
      {
       "output_type": "stream",
       "stream": "stdout",
       "text": [
        "(50000,)\n"
       ]
      }
     ],
     "prompt_number": 24
    },
    {
     "cell_type": "code",
     "collapsed": false,
     "input": [
      "print(data.shape)\n",
      "\n"
     ],
     "language": "python",
     "metadata": {},
     "outputs": [
      {
       "output_type": "stream",
       "stream": "stdout",
       "text": [
        "(50000,)\n"
       ]
      }
     ],
     "prompt_number": 25
    },
    {
     "cell_type": "code",
     "collapsed": false,
     "input": [
      "print(targets)"
     ],
     "language": "python",
     "metadata": {},
     "outputs": [
      {
       "output_type": "stream",
       "stream": "stdout",
       "text": [
        "[1 0 0 ... 0 0 0]\n"
       ]
      }
     ],
     "prompt_number": 26
    },
    {
     "cell_type": "code",
     "collapsed": false,
     "input": [
      "print(\"Categories\", np.unique(targets))\n",
      "print(\"Number of unique words:\", len(np.unique(np.hstack(data))))\n",
      "length = [len(i) for i in data]\n",
      "print(\"Average Review lgth:\", np.mean(length))\n",
      "print(\"Standard Deviation:\", round(np.std(length)))\n"
     ],
     "language": "python",
     "metadata": {},
     "outputs": [
      {
       "output_type": "stream",
       "stream": "stdout",
       "text": [
        "Categories [0 1]\n",
        "Number of unique words:"
       ]
      },
      {
       "output_type": "stream",
       "stream": "stdout",
       "text": [
        " 9998\n",
        "Average Review lgth: 234.75892\n",
        "Standard Deviation: 173.0\n"
       ]
      }
     ],
     "prompt_number": 27
    },
    {
     "cell_type": "code",
     "collapsed": false,
     "input": [
      "index = imdb.get_word_index()\n",
      "reverse_index = dict([(value, key) for (key, value) in index.items()]) \n",
      "decoded = \" \".join( [reverse_index.get(i - 3, \"#\") for i in data[0]] )\n",
      "print(decoded) "
     ],
     "language": "python",
     "metadata": {},
     "outputs": [
      {
       "output_type": "stream",
       "stream": "stdout",
       "text": [
        "# this film was just brilliant casting location scenery story direction everyone's really suited the part they played and you could just imagine being there robert # is an amazing actor and now the same being director # father came from the same scottish island as myself so i loved the fact there was a real connection with this film the witty remarks throughout the film were great it was just brilliant so much that i bought the film as soon as it was released for # and would recommend it to everyone to watch and the fly fishing was amazing really cried at the end it was so sad and you know what they say if you cry at a film it must have been good and this definitely was also # to the two little boy's that played the # of norman and paul they were just brilliant children are often left out of the # list i think because the stars that play them all grown up are such a big profile for the whole film but these children are amazing and should be praised for what they have done don't you think the whole story was so lovely because it was true and was someone's life after all that was shared with us all\n"
       ]
      }
     ],
     "prompt_number": 28
    },
    {
     "cell_type": "code",
     "collapsed": false,
     "input": [
      "def vectorize(sequences, dimension = 10000):\n",
      "    results = np.zeros((len(sequences), dimension))\n",
      "    for i, sequence in enumerate(sequences):\n",
      "        results[i, sequence] = 1\n",
      "    return results\n",
      " \n",
      "data = vectorize(data)\n",
      "targets = np.array(targets).astype(\"float32\")\n"
     ],
     "language": "python",
     "metadata": {},
     "outputs": [],
     "prompt_number": 29
    },
    {
     "cell_type": "code",
     "collapsed": false,
     "input": [
      "test_x = data[:10000]\n",
      "test_y = targets[:10000]\n",
      "train_x = data[10000:]\n",
      "train_y = targets[10000:]"
     ],
     "language": "python",
     "metadata": {},
     "outputs": [],
     "prompt_number": 30
    },
    {
     "cell_type": "code",
     "collapsed": false,
     "input": [
      "print(train_x.shape)\n"
     ],
     "language": "python",
     "metadata": {},
     "outputs": [
      {
       "output_type": "stream",
       "stream": "stdout",
       "text": [
        "(40000, 10000)\n"
       ]
      }
     ],
     "prompt_number": 31
    },
    {
     "cell_type": "code",
     "collapsed": false,
     "input": [
      "model = models.Sequential()\n",
      "# Input - Layer\n",
      "\n",
      "model.add(layers.Dense(50, activation = \"relu\", input_shape=(10000, )))\n",
      "# Hidden - Layers\n",
      "model.add(layers.Dropout(0.3, noise_shape=None, seed=None))\n",
      "model.add(layers.Dense(50, activation = \"relu\"))\n",
      "model.add(layers.Dropout(0.2, noise_shape=None, seed=None))\n",
      "model.add(layers.Dense(50, activation = \"relu\"))\n",
      "# Output- Layer\n",
      "model.add(layers.Dense(1, activation = \"sigmoid\"))\n",
      "model.summary()"
     ],
     "language": "python",
     "metadata": {},
     "outputs": [
      {
       "output_type": "stream",
       "stream": "stdout",
       "text": [
        "_________________________________________________________________\n",
        "Layer (type)                 Output Shape              Param #   \n",
        "=================================================================\n",
        "dense_5 (Dense)              (None, 50)                500050    \n",
        "_________________________________________________________________\n",
        "dropout_3 (Dropout)          (None, 50)                0         \n",
        "_________________________________________________________________\n",
        "dense_6 (Dense)              (None, 50)                2550      \n",
        "_________________________________________________________________\n",
        "dropout_4 (Dropout)          (None, 50)                0         \n",
        "_________________________________________________________________\n",
        "dense_7 (Dense)              (None, 50)                2550      \n",
        "_________________________________________________________________\n",
        "dense_8 (Dense)              (None, 1)                 51        \n",
        "=================================================================\n",
        "Total params: 505,201\n",
        "Trainable params: 505,201\n",
        "Non-trainable params: 0\n",
        "_________________________________________________________________\n"
       ]
      }
     ],
     "prompt_number": 32
    },
    {
     "cell_type": "code",
     "collapsed": false,
     "input": [
      "# compiling the model\n",
      "model.compile(\n",
      " optimizer = \"adam\",\n",
      " loss = \"binary_crossentropy\",\n",
      " metrics = [\"accuracy\"]\n",
      ")\n",
      "results = model.fit(\n",
      " train_x, train_y,\n",
      " #callbacks=[TQDMNotebookCallback()],\n",
      " epochs= 10,\n",
      " batch_size = 500,\n",
      " validation_data = (test_x, test_y)\n",
      ")\n",
      "print(\"Test-Accuracy:\", np.mean(results.history[\"val_acc\"]))"
     ],
     "language": "python",
     "metadata": {},
     "outputs": [
      {
       "output_type": "stream",
       "stream": "stdout",
       "text": [
        "Train on 40000 samples, validate on 10000 samples\n",
        "Epoch 1/10\n",
        "\n"
       ]
      },
      {
       "output_type": "stream",
       "stream": "stdout",
       "text": [
        "  500/40000 [..............................] - ETA: 3:21 - loss: 0.1459 - acc: 0.9600"
       ]
      },
      {
       "output_type": "stream",
       "stream": "stdout",
       "text": [
        "\n",
        " 1000/40000 [..............................] - ETA: 1:49 - loss: 0.1459 - acc: 0.9520"
       ]
      },
      {
       "output_type": "stream",
       "stream": "stdout",
       "text": [
        "\n",
        " 1500/40000 [>.............................] - ETA: 1:18 - loss: 0.1461 - acc: 0.9507"
       ]
      },
      {
       "output_type": "stream",
       "stream": "stdout",
       "text": [
        "\n",
        " 2000/40000 [>.............................] - ETA: 1:01 - loss: 0.1565 - acc: 0.9475"
       ]
      },
      {
       "output_type": "stream",
       "stream": "stdout",
       "text": [
        "\n",
        " 2500/40000 [>.............................] - ETA: 51s - loss: 0.1532 - acc: 0.9456 "
       ]
      },
      {
       "output_type": "stream",
       "stream": "stdout",
       "text": [
        "\n",
        " 3000/40000 [=>............................] - ETA: 45s - loss: 0.1516 - acc: 0.9467"
       ]
      },
      {
       "output_type": "stream",
       "stream": "stdout",
       "text": [
        "\n",
        " 3500/40000 [=>............................] - ETA: 40s - loss: 0.1503 - acc: 0.9463"
       ]
      },
      {
       "output_type": "stream",
       "stream": "stdout",
       "text": [
        "\n",
        " 4000/40000 [==>...........................] - ETA: 36s - loss: 0.1493 - acc: 0.9468"
       ]
      },
      {
       "output_type": "stream",
       "stream": "stdout",
       "text": [
        "\n",
        " 4500/40000 [==>...........................] - ETA: 33s - loss: 0.1514 - acc: 0.9458"
       ]
      },
      {
       "output_type": "stream",
       "stream": "stdout",
       "text": [
        "\n",
        " 5000/40000 [==>...........................] - ETA: 31s - loss: 0.1516 - acc: 0.9450"
       ]
      },
      {
       "output_type": "stream",
       "stream": "stdout",
       "text": [
        "\n",
        " 5500/40000 [===>..........................] - ETA: 29s - loss: 0.1538 - acc: 0.9447"
       ]
      },
      {
       "output_type": "stream",
       "stream": "stdout",
       "text": [
        "\n",
        " 6000/40000 [===>..........................] - ETA: 27s - loss: 0.1557 - acc: 0.9438"
       ]
      },
      {
       "output_type": "stream",
       "stream": "stdout",
       "text": [
        "\n",
        " 6500/40000 [===>..........................] - ETA: 26s - loss: 0.1550 - acc: 0.9442"
       ]
      },
      {
       "output_type": "stream",
       "stream": "stdout",
       "text": [
        "\n",
        " 7000/40000 [====>.........................] - ETA: 24s - loss: 0.1548 - acc: 0.9446"
       ]
      },
      {
       "output_type": "stream",
       "stream": "stdout",
       "text": [
        "\n",
        " 7500/40000 [====>.........................] - ETA: 23s - loss: 0.1554 - acc: 0.9437"
       ]
      },
      {
       "output_type": "stream",
       "stream": "stdout",
       "text": [
        "\n",
        " 8000/40000 [=====>........................] - ETA: 22s - loss: 0.1560 - acc: 0.9438"
       ]
      },
      {
       "output_type": "stream",
       "stream": "stdout",
       "text": [
        "\n",
        " 8500/40000 [=====>........................] - ETA: 21s - loss: 0.1561 - acc: 0.9438"
       ]
      },
      {
       "output_type": "stream",
       "stream": "stdout",
       "text": [
        "\n",
        " 9000/40000 [=====>........................] - ETA: 20s - loss: 0.1563 - acc: 0.9439"
       ]
      },
      {
       "output_type": "stream",
       "stream": "stdout",
       "text": [
        "\n",
        " 9500/40000 [======>.......................] - ETA: 20s - loss: 0.1567 - acc: 0.9437"
       ]
      },
      {
       "output_type": "stream",
       "stream": "stdout",
       "text": [
        "\n",
        "10000/40000 [======>.......................] - ETA: 19s - loss: 0.1565 - acc: 0.9442"
       ]
      },
      {
       "output_type": "stream",
       "stream": "stdout",
       "text": [
        "\n",
        "10500/40000 [======>.......................] - ETA: 18s - loss: 0.1564 - acc: 0.9442"
       ]
      },
      {
       "output_type": "stream",
       "stream": "stdout",
       "text": [
        "\n",
        "11000/40000 [=======>......................] - ETA: 17s - loss: 0.1563 - acc: 0.9440"
       ]
      },
      {
       "output_type": "stream",
       "stream": "stdout",
       "text": [
        "\n",
        "11500/40000 [=======>......................] - ETA: 17s - loss: 0.1553 - acc: 0.9445"
       ]
      },
      {
       "output_type": "stream",
       "stream": "stdout",
       "text": [
        "\n",
        "12000/40000 [========>.....................] - ETA: 16s - loss: 0.1552 - acc: 0.9443"
       ]
      },
      {
       "output_type": "stream",
       "stream": "stdout",
       "text": [
        "\n",
        "12500/40000 [========>.....................] - ETA: 16s - loss: 0.1538 - acc: 0.9446"
       ]
      },
      {
       "output_type": "stream",
       "stream": "stdout",
       "text": [
        "\n",
        "13000/40000 [========>.....................] - ETA: 15s - loss: 0.1539 - acc: 0.9445"
       ]
      },
      {
       "output_type": "stream",
       "stream": "stdout",
       "text": [
        "\n",
        "13500/40000 [=========>....................] - ETA: 15s - loss: 0.1537 - acc: 0.9441"
       ]
      },
      {
       "output_type": "stream",
       "stream": "stdout",
       "text": [
        "\n",
        "14000/40000 [=========>....................] - ETA: 14s - loss: 0.1540 - acc: 0.9439"
       ]
      },
      {
       "output_type": "stream",
       "stream": "stdout",
       "text": [
        "\n",
        "14500/40000 [=========>....................] - ETA: 14s - loss: 0.1539 - acc: 0.9436"
       ]
      },
      {
       "output_type": "stream",
       "stream": "stdout",
       "text": [
        "\n",
        "15000/40000 [==========>...................] - ETA: 13s - loss: 0.1537 - acc: 0.9433"
       ]
      },
      {
       "output_type": "stream",
       "stream": "stdout",
       "text": [
        "\n",
        "15500/40000 [==========>...................] - ETA: 13s - loss: 0.1538 - acc: 0.9432"
       ]
      },
      {
       "output_type": "stream",
       "stream": "stdout",
       "text": [
        "\n",
        "16000/40000 [===========>..................] - ETA: 12s - loss: 0.1533 - acc: 0.9430"
       ]
      },
      {
       "output_type": "stream",
       "stream": "stdout",
       "text": [
        "\n",
        "16500/40000 [===========>..................] - ETA: 12s - loss: 0.1540 - acc: 0.9423"
       ]
      },
      {
       "output_type": "stream",
       "stream": "stdout",
       "text": [
        "\n",
        "17000/40000 [===========>..................] - ETA: 11s - loss: 0.1537 - acc: 0.9425"
       ]
      },
      {
       "output_type": "stream",
       "stream": "stdout",
       "text": [
        "\n",
        "17500/40000 [============>.................] - ETA: 11s - loss: 0.1545 - acc: 0.9423"
       ]
      },
      {
       "output_type": "stream",
       "stream": "stdout",
       "text": [
        "\n",
        "18000/40000 [============>.................] - ETA: 11s - loss: 0.1544 - acc: 0.9424"
       ]
      },
      {
       "output_type": "stream",
       "stream": "stdout",
       "text": [
        "\n",
        "18500/40000 [============>.................] - ETA: 10s - loss: 0.1542 - acc: 0.9424"
       ]
      },
      {
       "output_type": "stream",
       "stream": "stdout",
       "text": [
        "\n",
        "19000/40000 [=============>................] - ETA: 10s - loss: 0.1546 - acc: 0.9424"
       ]
      },
      {
       "output_type": "stream",
       "stream": "stdout",
       "text": [
        "\n",
        "19500/40000 [=============>................] - ETA: 10s - loss: 0.1553 - acc: 0.9422"
       ]
      },
      {
       "output_type": "stream",
       "stream": "stdout",
       "text": [
        "\n",
        "20000/40000 [==============>...............] - ETA: 9s - loss: 0.1560 - acc: 0.9420 "
       ]
      },
      {
       "output_type": "stream",
       "stream": "stdout",
       "text": [
        "\n",
        "20500/40000 [==============>...............] - ETA: 9s - loss: 0.1557 - acc: 0.9420"
       ]
      },
      {
       "output_type": "stream",
       "stream": "stdout",
       "text": [
        "\n",
        "21000/40000 [==============>...............] - ETA: 9s - loss: 0.1561 - acc: 0.9418"
       ]
      },
      {
       "output_type": "stream",
       "stream": "stdout",
       "text": [
        "\n",
        "21500/40000 [===============>..............] - ETA: 8s - loss: 0.1569 - acc: 0.9419"
       ]
      },
      {
       "output_type": "stream",
       "stream": "stdout",
       "text": [
        "\n",
        "22000/40000 [===============>..............] - ETA: 8s - loss: 0.1562 - acc: 0.9423"
       ]
      },
      {
       "output_type": "stream",
       "stream": "stdout",
       "text": [
        "\n",
        "22500/40000 [===============>..............] - ETA: 8s - loss: 0.1564 - acc: 0.9424"
       ]
      },
      {
       "output_type": "stream",
       "stream": "stdout",
       "text": [
        "\n",
        "23000/40000 [================>.............] - ETA: 7s - loss: 0.1566 - acc: 0.9426"
       ]
      },
      {
       "output_type": "stream",
       "stream": "stdout",
       "text": [
        "\n",
        "23500/40000 [================>.............] - ETA: 7s - loss: 0.1561 - acc: 0.9429"
       ]
      },
      {
       "output_type": "stream",
       "stream": "stdout",
       "text": [
        "\n",
        "24000/40000 [=================>............] - ETA: 7s - loss: 0.1563 - acc: 0.9430"
       ]
      },
      {
       "output_type": "stream",
       "stream": "stdout",
       "text": [
        "\n",
        "24500/40000 [=================>............] - ETA: 7s - loss: 0.1562 - acc: 0.9429"
       ]
      },
      {
       "output_type": "stream",
       "stream": "stdout",
       "text": [
        "\n",
        "25000/40000 [=================>............] - ETA: 6s - loss: 0.1561 - acc: 0.9429"
       ]
      },
      {
       "output_type": "stream",
       "stream": "stdout",
       "text": [
        "\n",
        "25500/40000 [==================>...........] - ETA: 6s - loss: 0.1565 - acc: 0.9427"
       ]
      },
      {
       "output_type": "stream",
       "stream": "stdout",
       "text": [
        "\n",
        "26000/40000 [==================>...........] - ETA: 6s - loss: 0.1564 - acc: 0.9426"
       ]
      },
      {
       "output_type": "stream",
       "stream": "stdout",
       "text": [
        "\n",
        "26500/40000 [==================>...........] - ETA: 5s - loss: 0.1565 - acc: 0.9426"
       ]
      },
      {
       "output_type": "stream",
       "stream": "stdout",
       "text": [
        "\n",
        "27000/40000 [===================>..........] - ETA: 5s - loss: 0.1568 - acc: 0.9423"
       ]
      },
      {
       "output_type": "stream",
       "stream": "stdout",
       "text": [
        "\n",
        "27500/40000 [===================>..........] - ETA: 5s - loss: 0.1562 - acc: 0.9422"
       ]
      },
      {
       "output_type": "stream",
       "stream": "stdout",
       "text": [
        "\n",
        "28000/40000 [====================>.........] - ETA: 5s - loss: 0.1560 - acc: 0.9423"
       ]
      },
      {
       "output_type": "stream",
       "stream": "stdout",
       "text": [
        "\n",
        "28500/40000 [====================>.........] - ETA: 4s - loss: 0.1559 - acc: 0.9423"
       ]
      },
      {
       "output_type": "stream",
       "stream": "stdout",
       "text": [
        "\n",
        "29000/40000 [====================>.........] - ETA: 4s - loss: 0.1567 - acc: 0.9422"
       ]
      },
      {
       "output_type": "stream",
       "stream": "stdout",
       "text": [
        "\n",
        "29500/40000 [=====================>........] - ETA: 4s - loss: 0.1564 - acc: 0.9424"
       ]
      },
      {
       "output_type": "stream",
       "stream": "stdout",
       "text": [
        "\n",
        "30000/40000 [=====================>........] - ETA: 4s - loss: 0.1565 - acc: 0.9424"
       ]
      },
      {
       "output_type": "stream",
       "stream": "stdout",
       "text": [
        "\n",
        "30500/40000 [=====================>........] - ETA: 3s - loss: 0.1565 - acc: 0.9424"
       ]
      },
      {
       "output_type": "stream",
       "stream": "stdout",
       "text": [
        "\n",
        "31000/40000 [======================>.......] - ETA: 3s - loss: 0.1566 - acc: 0.9422"
       ]
      },
      {
       "output_type": "stream",
       "stream": "stdout",
       "text": [
        "\n",
        "31500/40000 [======================>.......] - ETA: 3s - loss: 0.1569 - acc: 0.9421"
       ]
      },
      {
       "output_type": "stream",
       "stream": "stdout",
       "text": [
        "\n",
        "32000/40000 [=======================>......] - ETA: 3s - loss: 0.1579 - acc: 0.9417"
       ]
      },
      {
       "output_type": "stream",
       "stream": "stdout",
       "text": [
        "\n",
        "32500/40000 [=======================>......] - ETA: 3s - loss: 0.1582 - acc: 0.9416"
       ]
      },
      {
       "output_type": "stream",
       "stream": "stdout",
       "text": [
        "\n",
        "33000/40000 [=======================>......] - ETA: 2s - loss: 0.1581 - acc: 0.9416"
       ]
      },
      {
       "output_type": "stream",
       "stream": "stdout",
       "text": [
        "\n",
        "33500/40000 [========================>.....] - ETA: 2s - loss: 0.1584 - acc: 0.9414"
       ]
      },
      {
       "output_type": "stream",
       "stream": "stdout",
       "text": [
        "\n",
        "34000/40000 [========================>.....] - ETA: 2s - loss: 0.1588 - acc: 0.9412"
       ]
      },
      {
       "output_type": "stream",
       "stream": "stdout",
       "text": [
        "\n",
        "34500/40000 [========================>.....] - ETA: 2s - loss: 0.1592 - acc: 0.9411"
       ]
      },
      {
       "output_type": "stream",
       "stream": "stdout",
       "text": [
        "\n",
        "35000/40000 [=========================>....] - ETA: 1s - loss: 0.1595 - acc: 0.9409"
       ]
      },
      {
       "output_type": "stream",
       "stream": "stdout",
       "text": [
        "\n",
        "35500/40000 [=========================>....] - ETA: 1s - loss: 0.1596 - acc: 0.9409"
       ]
      },
      {
       "output_type": "stream",
       "stream": "stdout",
       "text": [
        "\n",
        "36000/40000 [==========================>...] - ETA: 1s - loss: 0.1594 - acc: 0.9409"
       ]
      },
      {
       "output_type": "stream",
       "stream": "stdout",
       "text": [
        "\n",
        "36500/40000 [==========================>...] - ETA: 1s - loss: 0.1597 - acc: 0.9409"
       ]
      },
      {
       "output_type": "stream",
       "stream": "stdout",
       "text": [
        "\n",
        "37000/40000 [==========================>...] - ETA: 1s - loss: 0.1595 - acc: 0.9410"
       ]
      },
      {
       "output_type": "stream",
       "stream": "stdout",
       "text": [
        "\n",
        "37500/40000 [===========================>..] - ETA: 0s - loss: 0.1596 - acc: 0.9410"
       ]
      },
      {
       "output_type": "stream",
       "stream": "stdout",
       "text": [
        "\n",
        "38000/40000 [===========================>..] - ETA: 0s - loss: 0.1600 - acc: 0.9408"
       ]
      },
      {
       "output_type": "stream",
       "stream": "stdout",
       "text": [
        "\n",
        "38500/40000 [===========================>..] - ETA: 0s - loss: 0.1599 - acc: 0.9407"
       ]
      },
      {
       "output_type": "stream",
       "stream": "stdout",
       "text": [
        "\n",
        "39000/40000 [============================>.] - ETA: 0s - loss: 0.1602 - acc: 0.9407"
       ]
      },
      {
       "output_type": "stream",
       "stream": "stdout",
       "text": [
        "\n",
        "39500/40000 [============================>.] - ETA: 0s - loss: 0.1600 - acc: 0.9409"
       ]
      },
      {
       "output_type": "stream",
       "stream": "stdout",
       "text": [
        "\n",
        "40000/40000 [==============================] - 17s 419us/step - loss: 0.1603 - acc: 0.9408 - val_loss: 0.2970 - val_acc: 0.8888\n"
       ]
      },
      {
       "output_type": "stream",
       "stream": "stdout",
       "text": [
        "Epoch 2/10\n",
        "\n",
        "  500/40000 [..............................] - ETA: 2s - loss: 0.0903 - acc: 0.9660"
       ]
      },
      {
       "output_type": "stream",
       "stream": "stdout",
       "text": [
        "\n",
        " 1500/40000 [>.............................] - ETA: 2s - loss: 0.0986 - acc: 0.9700"
       ]
      },
      {
       "output_type": "stream",
       "stream": "stdout",
       "text": [
        "\n",
        " 2500/40000 [>.............................] - ETA: 2s - loss: 0.0964 - acc: 0.9708"
       ]
      },
      {
       "output_type": "stream",
       "stream": "stdout",
       "text": [
        "\n",
        " 3500/40000 [=>............................] - ETA: 2s - loss: 0.0984 - acc: 0.9691"
       ]
      },
      {
       "output_type": "stream",
       "stream": "stdout",
       "text": [
        "\n",
        " 4500/40000 [==>...........................] - ETA: 2s - loss: 0.0964 - acc: 0.9698"
       ]
      },
      {
       "output_type": "stream",
       "stream": "stdout",
       "text": [
        "\n",
        " 5500/40000 [===>..........................] - ETA: 1s - loss: 0.0969 - acc: 0.9680"
       ]
      },
      {
       "output_type": "stream",
       "stream": "stdout",
       "text": [
        "\n",
        " 6500/40000 [===>..........................] - ETA: 1s - loss: 0.0995 - acc: 0.9665"
       ]
      },
      {
       "output_type": "stream",
       "stream": "stdout",
       "text": [
        "\n",
        " 7500/40000 [====>.........................] - ETA: 1s - loss: 0.0997 - acc: 0.9672"
       ]
      },
      {
       "output_type": "stream",
       "stream": "stdout",
       "text": [
        "\n",
        " 8500/40000 [=====>........................] - ETA: 1s - loss: 0.0999 - acc: 0.9668"
       ]
      },
      {
       "output_type": "stream",
       "stream": "stdout",
       "text": [
        "\n",
        " 9500/40000 [======>.......................] - ETA: 1s - loss: 0.1017 - acc: 0.9660"
       ]
      },
      {
       "output_type": "stream",
       "stream": "stdout",
       "text": [
        "\n",
        "10500/40000 [======>.......................] - ETA: 1s - loss: 0.1015 - acc: 0.9657"
       ]
      },
      {
       "output_type": "stream",
       "stream": "stdout",
       "text": [
        "\n",
        "11500/40000 [=======>......................] - ETA: 1s - loss: 0.1008 - acc: 0.9654"
       ]
      },
      {
       "output_type": "stream",
       "stream": "stdout",
       "text": [
        "\n",
        "12500/40000 [========>.....................] - ETA: 1s - loss: 0.1037 - acc: 0.9640"
       ]
      },
      {
       "output_type": "stream",
       "stream": "stdout",
       "text": [
        "\n",
        "13500/40000 [=========>....................] - ETA: 1s - loss: 0.1017 - acc: 0.9653"
       ]
      },
      {
       "output_type": "stream",
       "stream": "stdout",
       "text": [
        "\n",
        "14500/40000 [=========>....................] - ETA: 1s - loss: 0.1017 - acc: 0.9652"
       ]
      },
      {
       "output_type": "stream",
       "stream": "stdout",
       "text": [
        "\n",
        "15500/40000 [==========>...................] - ETA: 1s - loss: 0.1025 - acc: 0.9649"
       ]
      },
      {
       "output_type": "stream",
       "stream": "stdout",
       "text": [
        "\n",
        "16500/40000 [===========>..................] - ETA: 1s - loss: 0.1018 - acc: 0.9650"
       ]
      },
      {
       "output_type": "stream",
       "stream": "stdout",
       "text": [
        "\n",
        "17500/40000 [============>.................] - ETA: 1s - loss: 0.1024 - acc: 0.9646"
       ]
      },
      {
       "output_type": "stream",
       "stream": "stdout",
       "text": [
        "\n",
        "18500/40000 [============>.................] - ETA: 1s - loss: 0.1021 - acc: 0.9646"
       ]
      },
      {
       "output_type": "stream",
       "stream": "stdout",
       "text": [
        "\n",
        "19500/40000 [=============>................] - ETA: 1s - loss: 0.1021 - acc: 0.9645"
       ]
      },
      {
       "output_type": "stream",
       "stream": "stdout",
       "text": [
        "\n",
        "20500/40000 [==============>...............] - ETA: 1s - loss: 0.1013 - acc: 0.9649"
       ]
      },
      {
       "output_type": "stream",
       "stream": "stdout",
       "text": [
        "\n",
        "21500/40000 [===============>..............] - ETA: 1s - loss: 0.1010 - acc: 0.9649"
       ]
      },
      {
       "output_type": "stream",
       "stream": "stdout",
       "text": [
        "\n",
        "22500/40000 [===============>..............] - ETA: 1s - loss: 0.1012 - acc: 0.9648"
       ]
      },
      {
       "output_type": "stream",
       "stream": "stdout",
       "text": [
        "\n",
        "23500/40000 [================>.............] - ETA: 0s - loss: 0.1019 - acc: 0.9647"
       ]
      },
      {
       "output_type": "stream",
       "stream": "stdout",
       "text": [
        "\n",
        "24500/40000 [=================>............] - ETA: 0s - loss: 0.1017 - acc: 0.9647"
       ]
      },
      {
       "output_type": "stream",
       "stream": "stdout",
       "text": [
        "\n",
        "25500/40000 [==================>...........] - ETA: 0s - loss: 0.1019 - acc: 0.9647"
       ]
      },
      {
       "output_type": "stream",
       "stream": "stdout",
       "text": [
        "\n",
        "26500/40000 [==================>...........] - ETA: 0s - loss: 0.1019 - acc: 0.9648"
       ]
      },
      {
       "output_type": "stream",
       "stream": "stdout",
       "text": [
        "\n",
        "27500/40000 [===================>..........] - ETA: 0s - loss: 0.1025 - acc: 0.9648"
       ]
      },
      {
       "output_type": "stream",
       "stream": "stdout",
       "text": [
        "\n",
        "28500/40000 [====================>.........] - ETA: 0s - loss: 0.1028 - acc: 0.9646"
       ]
      },
      {
       "output_type": "stream",
       "stream": "stdout",
       "text": [
        "\n",
        "29500/40000 [=====================>........] - ETA: 0s - loss: 0.1028 - acc: 0.9645"
       ]
      },
      {
       "output_type": "stream",
       "stream": "stdout",
       "text": [
        "\n",
        "30500/40000 [=====================>........] - ETA: 0s - loss: 0.1026 - acc: 0.9644"
       ]
      },
      {
       "output_type": "stream",
       "stream": "stdout",
       "text": [
        "\n",
        "31500/40000 [======================>.......] - ETA: 0s - loss: 0.1026 - acc: 0.9645"
       ]
      },
      {
       "output_type": "stream",
       "stream": "stdout",
       "text": [
        "\n",
        "32500/40000 [=======================>......] - ETA: 0s - loss: 0.1025 - acc: 0.9644"
       ]
      },
      {
       "output_type": "stream",
       "stream": "stdout",
       "text": [
        "\n",
        "33500/40000 [========================>.....] - ETA: 0s - loss: 0.1029 - acc: 0.9643"
       ]
      },
      {
       "output_type": "stream",
       "stream": "stdout",
       "text": [
        "\n",
        "34500/40000 [========================>.....] - ETA: 0s - loss: 0.1035 - acc: 0.9641"
       ]
      },
      {
       "output_type": "stream",
       "stream": "stdout",
       "text": [
        "\n",
        "35500/40000 [=========================>....] - ETA: 0s - loss: 0.1040 - acc: 0.9638"
       ]
      },
      {
       "output_type": "stream",
       "stream": "stdout",
       "text": [
        "\n",
        "36500/40000 [==========================>...] - ETA: 0s - loss: 0.1040 - acc: 0.9638"
       ]
      },
      {
       "output_type": "stream",
       "stream": "stdout",
       "text": [
        "\n",
        "37500/40000 [===========================>..] - ETA: 0s - loss: 0.1046 - acc: 0.9638"
       ]
      },
      {
       "output_type": "stream",
       "stream": "stdout",
       "text": [
        "\n",
        "38500/40000 [===========================>..] - ETA: 0s - loss: 0.1054 - acc: 0.9635"
       ]
      },
      {
       "output_type": "stream",
       "stream": "stdout",
       "text": [
        "\n",
        "39500/40000 [============================>.] - ETA: 0s - loss: 0.1062 - acc: 0.9632"
       ]
      },
      {
       "output_type": "stream",
       "stream": "stdout",
       "text": [
        "\n",
        "40000/40000 [==============================] - 3s 68us/step - loss: 0.1060 - acc: 0.9633 - val_loss: 0.3412 - val_acc: 0.8859\n"
       ]
      },
      {
       "output_type": "stream",
       "stream": "stdout",
       "text": [
        "Epoch 3/10\n",
        "\n",
        "  500/40000 [..............................] - ETA: 2s - loss: 0.0806 - acc: 0.9760"
       ]
      },
      {
       "output_type": "stream",
       "stream": "stdout",
       "text": [
        "\n",
        " 1500/40000 [>.............................] - ETA: 2s - loss: 0.0822 - acc: 0.9773"
       ]
      },
      {
       "output_type": "stream",
       "stream": "stdout",
       "text": [
        "\n",
        " 2500/40000 [>.............................] - ETA: 2s - loss: 0.0735 - acc: 0.9796"
       ]
      },
      {
       "output_type": "stream",
       "stream": "stdout",
       "text": [
        "\n",
        " 3500/40000 [=>............................] - ETA: 2s - loss: 0.0745 - acc: 0.9783"
       ]
      },
      {
       "output_type": "stream",
       "stream": "stdout",
       "text": [
        "\n",
        " 4500/40000 [==>...........................] - ETA: 2s - loss: 0.0695 - acc: 0.9793"
       ]
      },
      {
       "output_type": "stream",
       "stream": "stdout",
       "text": [
        "\n",
        " 5500/40000 [===>..........................] - ETA: 1s - loss: 0.0697 - acc: 0.9789"
       ]
      },
      {
       "output_type": "stream",
       "stream": "stdout",
       "text": [
        "\n",
        " 6500/40000 [===>..........................] - ETA: 1s - loss: 0.0700 - acc: 0.9785"
       ]
      },
      {
       "output_type": "stream",
       "stream": "stdout",
       "text": [
        "\n",
        " 7500/40000 [====>.........................] - ETA: 1s - loss: 0.0712 - acc: 0.9776"
       ]
      },
      {
       "output_type": "stream",
       "stream": "stdout",
       "text": [
        "\n",
        " 8500/40000 [=====>........................] - ETA: 1s - loss: 0.0732 - acc: 0.9764"
       ]
      },
      {
       "output_type": "stream",
       "stream": "stdout",
       "text": [
        "\n",
        " 9500/40000 [======>.......................] - ETA: 1s - loss: 0.0728 - acc: 0.9762"
       ]
      },
      {
       "output_type": "stream",
       "stream": "stdout",
       "text": [
        "\n",
        "10500/40000 [======>.......................] - ETA: 1s - loss: 0.0723 - acc: 0.9761"
       ]
      },
      {
       "output_type": "stream",
       "stream": "stdout",
       "text": [
        "\n",
        "11500/40000 [=======>......................] - ETA: 1s - loss: 0.0705 - acc: 0.9770"
       ]
      },
      {
       "output_type": "stream",
       "stream": "stdout",
       "text": [
        "\n",
        "12500/40000 [========>.....................] - ETA: 1s - loss: 0.0701 - acc: 0.9770"
       ]
      },
      {
       "output_type": "stream",
       "stream": "stdout",
       "text": [
        "\n",
        "13500/40000 [=========>....................] - ETA: 1s - loss: 0.0692 - acc: 0.9773"
       ]
      },
      {
       "output_type": "stream",
       "stream": "stdout",
       "text": [
        "\n",
        "14500/40000 [=========>....................] - ETA: 1s - loss: 0.0685 - acc: 0.9775"
       ]
      },
      {
       "output_type": "stream",
       "stream": "stdout",
       "text": [
        "\n",
        "15500/40000 [==========>...................] - ETA: 1s - loss: 0.0679 - acc: 0.9777"
       ]
      },
      {
       "output_type": "stream",
       "stream": "stdout",
       "text": [
        "\n",
        "16500/40000 [===========>..................] - ETA: 1s - loss: 0.0676 - acc: 0.9779"
       ]
      },
      {
       "output_type": "stream",
       "stream": "stdout",
       "text": [
        "\n",
        "17500/40000 [============>.................] - ETA: 1s - loss: 0.0682 - acc: 0.9777"
       ]
      },
      {
       "output_type": "stream",
       "stream": "stdout",
       "text": [
        "\n",
        "18500/40000 [============>.................] - ETA: 1s - loss: 0.0678 - acc: 0.9777"
       ]
      },
      {
       "output_type": "stream",
       "stream": "stdout",
       "text": [
        "\n",
        "19500/40000 [=============>................] - ETA: 1s - loss: 0.0682 - acc: 0.9775"
       ]
      },
      {
       "output_type": "stream",
       "stream": "stdout",
       "text": [
        "\n",
        "20500/40000 [==============>...............] - ETA: 1s - loss: 0.0680 - acc: 0.9776"
       ]
      },
      {
       "output_type": "stream",
       "stream": "stdout",
       "text": [
        "\n",
        "21500/40000 [===============>..............] - ETA: 1s - loss: 0.0681 - acc: 0.9773"
       ]
      },
      {
       "output_type": "stream",
       "stream": "stdout",
       "text": [
        "\n",
        "22500/40000 [===============>..............] - ETA: 0s - loss: 0.0686 - acc: 0.9772"
       ]
      },
      {
       "output_type": "stream",
       "stream": "stdout",
       "text": [
        "\n",
        "23500/40000 [================>.............] - ETA: 0s - loss: 0.0688 - acc: 0.9771"
       ]
      },
      {
       "output_type": "stream",
       "stream": "stdout",
       "text": [
        "\n",
        "24500/40000 [=================>............] - ETA: 0s - loss: 0.0689 - acc: 0.9769"
       ]
      },
      {
       "output_type": "stream",
       "stream": "stdout",
       "text": [
        "\n",
        "25500/40000 [==================>...........] - ETA: 0s - loss: 0.0693 - acc: 0.9769"
       ]
      },
      {
       "output_type": "stream",
       "stream": "stdout",
       "text": [
        "\n",
        "26500/40000 [==================>...........] - ETA: 0s - loss: 0.0700 - acc: 0.9770"
       ]
      },
      {
       "output_type": "stream",
       "stream": "stdout",
       "text": [
        "\n",
        "27500/40000 [===================>..........] - ETA: 0s - loss: 0.0708 - acc: 0.9766"
       ]
      },
      {
       "output_type": "stream",
       "stream": "stdout",
       "text": [
        "\n",
        "28500/40000 [====================>.........] - ETA: 0s - loss: 0.0716 - acc: 0.9762"
       ]
      },
      {
       "output_type": "stream",
       "stream": "stdout",
       "text": [
        "\n",
        "29500/40000 [=====================>........] - ETA: 0s - loss: 0.0718 - acc: 0.9760"
       ]
      },
      {
       "output_type": "stream",
       "stream": "stdout",
       "text": [
        "\n",
        "30500/40000 [=====================>........] - ETA: 0s - loss: 0.0714 - acc: 0.9762"
       ]
      },
      {
       "output_type": "stream",
       "stream": "stdout",
       "text": [
        "\n",
        "31500/40000 [======================>.......] - ETA: 0s - loss: 0.0719 - acc: 0.9760"
       ]
      },
      {
       "output_type": "stream",
       "stream": "stdout",
       "text": [
        "\n",
        "32500/40000 [=======================>......] - ETA: 0s - loss: 0.0722 - acc: 0.9759"
       ]
      },
      {
       "output_type": "stream",
       "stream": "stdout",
       "text": [
        "\n",
        "33500/40000 [========================>.....] - ETA: 0s - loss: 0.0725 - acc: 0.9756"
       ]
      },
      {
       "output_type": "stream",
       "stream": "stdout",
       "text": [
        "\n",
        "34500/40000 [========================>.....] - ETA: 0s - loss: 0.0724 - acc: 0.9757"
       ]
      },
      {
       "output_type": "stream",
       "stream": "stdout",
       "text": [
        "\n",
        "35500/40000 [=========================>....] - ETA: 0s - loss: 0.0728 - acc: 0.9753"
       ]
      },
      {
       "output_type": "stream",
       "stream": "stdout",
       "text": [
        "\n",
        "36500/40000 [==========================>...] - ETA: 0s - loss: 0.0726 - acc: 0.9755"
       ]
      },
      {
       "output_type": "stream",
       "stream": "stdout",
       "text": [
        "\n",
        "37500/40000 [===========================>..] - ETA: 0s - loss: 0.0732 - acc: 0.9753"
       ]
      },
      {
       "output_type": "stream",
       "stream": "stdout",
       "text": [
        "\n",
        "38500/40000 [===========================>..] - ETA: 0s - loss: 0.0731 - acc: 0.9753"
       ]
      },
      {
       "output_type": "stream",
       "stream": "stdout",
       "text": [
        "\n",
        "39500/40000 [============================>.] - ETA: 0s - loss: 0.0731 - acc: 0.9754"
       ]
      },
      {
       "output_type": "stream",
       "stream": "stdout",
       "text": [
        "\n",
        "40000/40000 [==============================] - 3s 66us/step - loss: 0.0734 - acc: 0.9753 - val_loss: 0.4344 - val_acc: 0.8828\n"
       ]
      },
      {
       "output_type": "stream",
       "stream": "stdout",
       "text": [
        "Epoch 4/10\n",
        "\n",
        "  500/40000 [..............................] - ETA: 2s - loss: 0.0505 - acc: 0.9800"
       ]
      },
      {
       "output_type": "stream",
       "stream": "stdout",
       "text": [
        "\n",
        " 1500/40000 [>.............................] - ETA: 2s - loss: 0.0469 - acc: 0.9833"
       ]
      },
      {
       "output_type": "stream",
       "stream": "stdout",
       "text": [
        "\n",
        " 2500/40000 [>.............................] - ETA: 2s - loss: 0.0480 - acc: 0.9836"
       ]
      },
      {
       "output_type": "stream",
       "stream": "stdout",
       "text": [
        "\n",
        " 3500/40000 [=>............................] - ETA: 2s - loss: 0.0439 - acc: 0.9857"
       ]
      },
      {
       "output_type": "stream",
       "stream": "stdout",
       "text": [
        "\n",
        " 4500/40000 [==>...........................] - ETA: 1s - loss: 0.0439 - acc: 0.9860"
       ]
      },
      {
       "output_type": "stream",
       "stream": "stdout",
       "text": [
        "\n",
        " 5500/40000 [===>..........................] - ETA: 1s - loss: 0.0437 - acc: 0.9865"
       ]
      },
      {
       "output_type": "stream",
       "stream": "stdout",
       "text": [
        "\n",
        " 6500/40000 [===>..........................] - ETA: 1s - loss: 0.0440 - acc: 0.9862"
       ]
      },
      {
       "output_type": "stream",
       "stream": "stdout",
       "text": [
        "\n",
        " 7500/40000 [====>.........................] - ETA: 1s - loss: 0.0444 - acc: 0.9860"
       ]
      },
      {
       "output_type": "stream",
       "stream": "stdout",
       "text": [
        "\n",
        " 8500/40000 [=====>........................] - ETA: 1s - loss: 0.0453 - acc: 0.9854"
       ]
      },
      {
       "output_type": "stream",
       "stream": "stdout",
       "text": [
        "\n",
        " 9500/40000 [======>.......................] - ETA: 1s - loss: 0.0453 - acc: 0.9855"
       ]
      },
      {
       "output_type": "stream",
       "stream": "stdout",
       "text": [
        "\n",
        "10500/40000 [======>.......................] - ETA: 1s - loss: 0.0470 - acc: 0.9846"
       ]
      },
      {
       "output_type": "stream",
       "stream": "stdout",
       "text": [
        "\n",
        "11500/40000 [=======>......................] - ETA: 1s - loss: 0.0482 - acc: 0.9837"
       ]
      },
      {
       "output_type": "stream",
       "stream": "stdout",
       "text": [
        "\n",
        "12500/40000 [========>.....................] - ETA: 1s - loss: 0.0485 - acc: 0.9835"
       ]
      },
      {
       "output_type": "stream",
       "stream": "stdout",
       "text": [
        "\n",
        "13500/40000 [=========>....................] - ETA: 1s - loss: 0.0481 - acc: 0.9835"
       ]
      },
      {
       "output_type": "stream",
       "stream": "stdout",
       "text": [
        "\n",
        "14500/40000 [=========>....................] - ETA: 1s - loss: 0.0489 - acc: 0.9833"
       ]
      },
      {
       "output_type": "stream",
       "stream": "stdout",
       "text": [
        "\n",
        "15500/40000 [==========>...................] - ETA: 1s - loss: 0.0483 - acc: 0.9834"
       ]
      },
      {
       "output_type": "stream",
       "stream": "stdout",
       "text": [
        "\n",
        "16500/40000 [===========>..................] - ETA: 1s - loss: 0.0479 - acc: 0.9838"
       ]
      },
      {
       "output_type": "stream",
       "stream": "stdout",
       "text": [
        "\n",
        "17500/40000 [============>.................] - ETA: 1s - loss: 0.0478 - acc: 0.9841"
       ]
      },
      {
       "output_type": "stream",
       "stream": "stdout",
       "text": [
        "\n",
        "18500/40000 [============>.................] - ETA: 1s - loss: 0.0475 - acc: 0.9841"
       ]
      },
      {
       "output_type": "stream",
       "stream": "stdout",
       "text": [
        "\n",
        "19500/40000 [=============>................] - ETA: 1s - loss: 0.0475 - acc: 0.9842"
       ]
      },
      {
       "output_type": "stream",
       "stream": "stdout",
       "text": [
        "\n",
        "20500/40000 [==============>...............] - ETA: 1s - loss: 0.0485 - acc: 0.9840"
       ]
      },
      {
       "output_type": "stream",
       "stream": "stdout",
       "text": [
        "\n",
        "21500/40000 [===============>..............] - ETA: 1s - loss: 0.0485 - acc: 0.9839"
       ]
      },
      {
       "output_type": "stream",
       "stream": "stdout",
       "text": [
        "\n",
        "22500/40000 [===============>..............] - ETA: 1s - loss: 0.0487 - acc: 0.9837"
       ]
      },
      {
       "output_type": "stream",
       "stream": "stdout",
       "text": [
        "\n",
        "23500/40000 [================>.............] - ETA: 0s - loss: 0.0491 - acc: 0.9835"
       ]
      },
      {
       "output_type": "stream",
       "stream": "stdout",
       "text": [
        "\n",
        "24500/40000 [=================>............] - ETA: 0s - loss: 0.0492 - acc: 0.9835"
       ]
      },
      {
       "output_type": "stream",
       "stream": "stdout",
       "text": [
        "\n",
        "25500/40000 [==================>...........] - ETA: 0s - loss: 0.0498 - acc: 0.9833"
       ]
      },
      {
       "output_type": "stream",
       "stream": "stdout",
       "text": [
        "\n",
        "26500/40000 [==================>...........] - ETA: 0s - loss: 0.0505 - acc: 0.9830"
       ]
      },
      {
       "output_type": "stream",
       "stream": "stdout",
       "text": [
        "\n",
        "27500/40000 [===================>..........] - ETA: 0s - loss: 0.0501 - acc: 0.9832"
       ]
      },
      {
       "output_type": "stream",
       "stream": "stdout",
       "text": [
        "\n",
        "28500/40000 [====================>.........] - ETA: 0s - loss: 0.0503 - acc: 0.9832"
       ]
      },
      {
       "output_type": "stream",
       "stream": "stdout",
       "text": [
        "\n",
        "29500/40000 [=====================>........] - ETA: 0s - loss: 0.0500 - acc: 0.9832"
       ]
      },
      {
       "output_type": "stream",
       "stream": "stdout",
       "text": [
        "\n",
        "30500/40000 [=====================>........] - ETA: 0s - loss: 0.0502 - acc: 0.9832"
       ]
      },
      {
       "output_type": "stream",
       "stream": "stdout",
       "text": [
        "\n",
        "31500/40000 [======================>.......] - ETA: 0s - loss: 0.0499 - acc: 0.9833"
       ]
      },
      {
       "output_type": "stream",
       "stream": "stdout",
       "text": [
        "\n",
        "32500/40000 [=======================>......] - ETA: 0s - loss: 0.0499 - acc: 0.9833"
       ]
      },
      {
       "output_type": "stream",
       "stream": "stdout",
       "text": [
        "\n",
        "33500/40000 [========================>.....] - ETA: 0s - loss: 0.0500 - acc: 0.9832"
       ]
      },
      {
       "output_type": "stream",
       "stream": "stdout",
       "text": [
        "\n",
        "34500/40000 [========================>.....] - ETA: 0s - loss: 0.0500 - acc: 0.9832"
       ]
      },
      {
       "output_type": "stream",
       "stream": "stdout",
       "text": [
        "\n",
        "35500/40000 [=========================>....] - ETA: 0s - loss: 0.0503 - acc: 0.9831"
       ]
      },
      {
       "output_type": "stream",
       "stream": "stdout",
       "text": [
        "\n",
        "36500/40000 [==========================>...] - ETA: 0s - loss: 0.0507 - acc: 0.9830"
       ]
      },
      {
       "output_type": "stream",
       "stream": "stdout",
       "text": [
        "\n",
        "37500/40000 [===========================>..] - ETA: 0s - loss: 0.0510 - acc: 0.9828"
       ]
      },
      {
       "output_type": "stream",
       "stream": "stdout",
       "text": [
        "\n",
        "38500/40000 [===========================>..] - ETA: 0s - loss: 0.0510 - acc: 0.9827"
       ]
      },
      {
       "output_type": "stream",
       "stream": "stdout",
       "text": [
        "\n",
        "39500/40000 [============================>.] - ETA: 0s - loss: 0.0511 - acc: 0.9827"
       ]
      },
      {
       "output_type": "stream",
       "stream": "stdout",
       "text": [
        "\n",
        "40000/40000 [==============================] - 3s 67us/step - loss: 0.0510 - acc: 0.9827 - val_loss: 0.4752 - val_acc: 0.8840\n"
       ]
      },
      {
       "output_type": "stream",
       "stream": "stdout",
       "text": [
        "Epoch 5/10\n",
        "\n",
        "  500/40000 [..............................] - ETA: 2s - loss: 0.0402 - acc: 0.9920"
       ]
      },
      {
       "output_type": "stream",
       "stream": "stdout",
       "text": [
        "\n",
        " 1500/40000 [>.............................] - ETA: 2s - loss: 0.0391 - acc: 0.9887"
       ]
      },
      {
       "output_type": "stream",
       "stream": "stdout",
       "text": [
        "\n",
        " 2500/40000 [>.............................] - ETA: 2s - loss: 0.0405 - acc: 0.9864"
       ]
      },
      {
       "output_type": "stream",
       "stream": "stdout",
       "text": [
        "\n",
        " 3500/40000 [=>............................] - ETA: 2s - loss: 0.0407 - acc: 0.9869"
       ]
      },
      {
       "output_type": "stream",
       "stream": "stdout",
       "text": [
        "\n",
        " 4500/40000 [==>...........................] - ETA: 2s - loss: 0.0408 - acc: 0.9876"
       ]
      },
      {
       "output_type": "stream",
       "stream": "stdout",
       "text": [
        "\n",
        " 5500/40000 [===>..........................] - ETA: 1s - loss: 0.0425 - acc: 0.9867"
       ]
      },
      {
       "output_type": "stream",
       "stream": "stdout",
       "text": [
        "\n",
        " 6500/40000 [===>..........................] - ETA: 1s - loss: 0.0402 - acc: 0.9874"
       ]
      },
      {
       "output_type": "stream",
       "stream": "stdout",
       "text": [
        "\n",
        " 7500/40000 [====>.........................] - ETA: 1s - loss: 0.0389 - acc: 0.9880"
       ]
      },
      {
       "output_type": "stream",
       "stream": "stdout",
       "text": [
        "\n",
        " 8500/40000 [=====>........................] - ETA: 1s - loss: 0.0389 - acc: 0.9874"
       ]
      },
      {
       "output_type": "stream",
       "stream": "stdout",
       "text": [
        "\n",
        " 9500/40000 [======>.......................] - ETA: 1s - loss: 0.0404 - acc: 0.9868"
       ]
      },
      {
       "output_type": "stream",
       "stream": "stdout",
       "text": [
        "\n",
        "10500/40000 [======>.......................] - ETA: 1s - loss: 0.0402 - acc: 0.9870"
       ]
      },
      {
       "output_type": "stream",
       "stream": "stdout",
       "text": [
        "\n",
        "11500/40000 [=======>......................] - ETA: 1s - loss: 0.0401 - acc: 0.9867"
       ]
      },
      {
       "output_type": "stream",
       "stream": "stdout",
       "text": [
        "\n",
        "12500/40000 [========>.....................] - ETA: 1s - loss: 0.0403 - acc: 0.9865"
       ]
      },
      {
       "output_type": "stream",
       "stream": "stdout",
       "text": [
        "\n",
        "13500/40000 [=========>....................] - ETA: 1s - loss: 0.0405 - acc: 0.9865"
       ]
      },
      {
       "output_type": "stream",
       "stream": "stdout",
       "text": [
        "\n",
        "14500/40000 [=========>....................] - ETA: 1s - loss: 0.0404 - acc: 0.9866"
       ]
      },
      {
       "output_type": "stream",
       "stream": "stdout",
       "text": [
        "\n",
        "15500/40000 [==========>...................] - ETA: 1s - loss: 0.0400 - acc: 0.9866"
       ]
      },
      {
       "output_type": "stream",
       "stream": "stdout",
       "text": [
        "\n",
        "16500/40000 [===========>..................] - ETA: 1s - loss: 0.0406 - acc: 0.9861"
       ]
      },
      {
       "output_type": "stream",
       "stream": "stdout",
       "text": [
        "\n",
        "17500/40000 [============>.................] - ETA: 1s - loss: 0.0406 - acc: 0.9861"
       ]
      },
      {
       "output_type": "stream",
       "stream": "stdout",
       "text": [
        "\n",
        "18500/40000 [============>.................] - ETA: 1s - loss: 0.0410 - acc: 0.9858"
       ]
      },
      {
       "output_type": "stream",
       "stream": "stdout",
       "text": [
        "\n",
        "19500/40000 [=============>................] - ETA: 1s - loss: 0.0409 - acc: 0.9856"
       ]
      },
      {
       "output_type": "stream",
       "stream": "stdout",
       "text": [
        "\n",
        "20500/40000 [==============>...............] - ETA: 1s - loss: 0.0417 - acc: 0.9852"
       ]
      },
      {
       "output_type": "stream",
       "stream": "stdout",
       "text": [
        "\n",
        "21500/40000 [===============>..............] - ETA: 1s - loss: 0.0417 - acc: 0.9852"
       ]
      },
      {
       "output_type": "stream",
       "stream": "stdout",
       "text": [
        "\n",
        "22500/40000 [===============>..............] - ETA: 0s - loss: 0.0424 - acc: 0.9850"
       ]
      },
      {
       "output_type": "stream",
       "stream": "stdout",
       "text": [
        "\n",
        "23500/40000 [================>.............] - ETA: 0s - loss: 0.0427 - acc: 0.9850"
       ]
      },
      {
       "output_type": "stream",
       "stream": "stdout",
       "text": [
        "\n",
        "24500/40000 [=================>............] - ETA: 0s - loss: 0.0424 - acc: 0.9851"
       ]
      },
      {
       "output_type": "stream",
       "stream": "stdout",
       "text": [
        "\n",
        "25500/40000 [==================>...........] - ETA: 0s - loss: 0.0425 - acc: 0.9851"
       ]
      },
      {
       "output_type": "stream",
       "stream": "stdout",
       "text": [
        "\n",
        "26500/40000 [==================>...........] - ETA: 0s - loss: 0.0427 - acc: 0.9852"
       ]
      },
      {
       "output_type": "stream",
       "stream": "stdout",
       "text": [
        "\n",
        "27500/40000 [===================>..........] - ETA: 0s - loss: 0.0421 - acc: 0.9853"
       ]
      },
      {
       "output_type": "stream",
       "stream": "stdout",
       "text": [
        "\n",
        "28500/40000 [====================>.........] - ETA: 0s - loss: 0.0421 - acc: 0.9854"
       ]
      },
      {
       "output_type": "stream",
       "stream": "stdout",
       "text": [
        "\n",
        "29500/40000 [=====================>........] - ETA: 0s - loss: 0.0421 - acc: 0.9854"
       ]
      },
      {
       "output_type": "stream",
       "stream": "stdout",
       "text": [
        "\n",
        "30500/40000 [=====================>........] - ETA: 0s - loss: 0.0420 - acc: 0.9855"
       ]
      },
      {
       "output_type": "stream",
       "stream": "stdout",
       "text": [
        "\n",
        "31500/40000 [======================>.......] - ETA: 0s - loss: 0.0418 - acc: 0.9856"
       ]
      },
      {
       "output_type": "stream",
       "stream": "stdout",
       "text": [
        "\n",
        "32500/40000 [=======================>......] - ETA: 0s - loss: 0.0420 - acc: 0.9855"
       ]
      },
      {
       "output_type": "stream",
       "stream": "stdout",
       "text": [
        "\n",
        "33500/40000 [========================>.....] - ETA: 0s - loss: 0.0422 - acc: 0.9854"
       ]
      },
      {
       "output_type": "stream",
       "stream": "stdout",
       "text": [
        "\n",
        "34500/40000 [========================>.....] - ETA: 0s - loss: 0.0433 - acc: 0.9850"
       ]
      },
      {
       "output_type": "stream",
       "stream": "stdout",
       "text": [
        "\n",
        "35500/40000 [=========================>....] - ETA: 0s - loss: 0.0432 - acc: 0.9850"
       ]
      },
      {
       "output_type": "stream",
       "stream": "stdout",
       "text": [
        "\n",
        "36500/40000 [==========================>...] - ETA: 0s - loss: 0.0437 - acc: 0.9848"
       ]
      },
      {
       "output_type": "stream",
       "stream": "stdout",
       "text": [
        "\n",
        "37500/40000 [===========================>..] - ETA: 0s - loss: 0.0442 - acc: 0.9847"
       ]
      },
      {
       "output_type": "stream",
       "stream": "stdout",
       "text": [
        "\n",
        "38500/40000 [===========================>..] - ETA: 0s - loss: 0.0442 - acc: 0.9848"
       ]
      },
      {
       "output_type": "stream",
       "stream": "stdout",
       "text": [
        "\n",
        "39500/40000 [============================>.] - ETA: 0s - loss: 0.0443 - acc: 0.9847"
       ]
      },
      {
       "output_type": "stream",
       "stream": "stdout",
       "text": [
        "\n",
        "40000/40000 [==============================] - 3s 67us/step - loss: 0.0443 - acc: 0.9848 - val_loss: 0.4930 - val_acc: 0.8810\n"
       ]
      },
      {
       "output_type": "stream",
       "stream": "stdout",
       "text": [
        "Epoch 6/10\n",
        "\n",
        "  500/40000 [..............................] - ETA: 2s - loss: 0.0348 - acc: 0.9880"
       ]
      },
      {
       "output_type": "stream",
       "stream": "stdout",
       "text": [
        "\n",
        " 1500/40000 [>.............................] - ETA: 2s - loss: 0.0289 - acc: 0.9900"
       ]
      },
      {
       "output_type": "stream",
       "stream": "stdout",
       "text": [
        "\n",
        " 2500/40000 [>.............................] - ETA: 2s - loss: 0.0239 - acc: 0.9924"
       ]
      },
      {
       "output_type": "stream",
       "stream": "stdout",
       "text": [
        "\n",
        " 3500/40000 [=>............................] - ETA: 2s - loss: 0.0269 - acc: 0.9917"
       ]
      },
      {
       "output_type": "stream",
       "stream": "stdout",
       "text": [
        "\n",
        " 4500/40000 [==>...........................] - ETA: 1s - loss: 0.0289 - acc: 0.9909"
       ]
      },
      {
       "output_type": "stream",
       "stream": "stdout",
       "text": [
        "\n",
        " 5500/40000 [===>..........................] - ETA: 1s - loss: 0.0297 - acc: 0.9907"
       ]
      },
      {
       "output_type": "stream",
       "stream": "stdout",
       "text": [
        "\n",
        " 6500/40000 [===>..........................] - ETA: 1s - loss: 0.0284 - acc: 0.9908"
       ]
      },
      {
       "output_type": "stream",
       "stream": "stdout",
       "text": [
        "\n",
        " 7500/40000 [====>.........................] - ETA: 1s - loss: 0.0285 - acc: 0.9908"
       ]
      },
      {
       "output_type": "stream",
       "stream": "stdout",
       "text": [
        "\n",
        " 8500/40000 [=====>........................] - ETA: 1s - loss: 0.0285 - acc: 0.9907"
       ]
      },
      {
       "output_type": "stream",
       "stream": "stdout",
       "text": [
        "\n",
        " 9500/40000 [======>.......................] - ETA: 1s - loss: 0.0290 - acc: 0.9902"
       ]
      },
      {
       "output_type": "stream",
       "stream": "stdout",
       "text": [
        "\n",
        "10500/40000 [======>.......................] - ETA: 1s - loss: 0.0289 - acc: 0.9901"
       ]
      },
      {
       "output_type": "stream",
       "stream": "stdout",
       "text": [
        "\n",
        "11500/40000 [=======>......................] - ETA: 1s - loss: 0.0293 - acc: 0.9899"
       ]
      },
      {
       "output_type": "stream",
       "stream": "stdout",
       "text": [
        "\n",
        "12500/40000 [========>.....................] - ETA: 1s - loss: 0.0295 - acc: 0.9896"
       ]
      },
      {
       "output_type": "stream",
       "stream": "stdout",
       "text": [
        "\n",
        "13500/40000 [=========>....................] - ETA: 1s - loss: 0.0287 - acc: 0.9898"
       ]
      },
      {
       "output_type": "stream",
       "stream": "stdout",
       "text": [
        "\n",
        "14500/40000 [=========>....................] - ETA: 1s - loss: 0.0293 - acc: 0.9897"
       ]
      },
      {
       "output_type": "stream",
       "stream": "stdout",
       "text": [
        "\n",
        "15500/40000 [==========>...................] - ETA: 1s - loss: 0.0292 - acc: 0.9899"
       ]
      },
      {
       "output_type": "stream",
       "stream": "stdout",
       "text": [
        "\n",
        "16500/40000 [===========>..................] - ETA: 1s - loss: 0.0295 - acc: 0.9898"
       ]
      },
      {
       "output_type": "stream",
       "stream": "stdout",
       "text": [
        "\n",
        "17500/40000 [============>.................] - ETA: 1s - loss: 0.0298 - acc: 0.9896"
       ]
      },
      {
       "output_type": "stream",
       "stream": "stdout",
       "text": [
        "\n",
        "18500/40000 [============>.................] - ETA: 1s - loss: 0.0294 - acc: 0.9897"
       ]
      },
      {
       "output_type": "stream",
       "stream": "stdout",
       "text": [
        "\n",
        "19500/40000 [=============>................] - ETA: 1s - loss: 0.0301 - acc: 0.9896"
       ]
      },
      {
       "output_type": "stream",
       "stream": "stdout",
       "text": [
        "\n",
        "20500/40000 [==============>...............] - ETA: 1s - loss: 0.0307 - acc: 0.9895"
       ]
      },
      {
       "output_type": "stream",
       "stream": "stdout",
       "text": [
        "\n",
        "21500/40000 [===============>..............] - ETA: 1s - loss: 0.0308 - acc: 0.9893"
       ]
      },
      {
       "output_type": "stream",
       "stream": "stdout",
       "text": [
        "\n",
        "22500/40000 [===============>..............] - ETA: 0s - loss: 0.0315 - acc: 0.9889"
       ]
      },
      {
       "output_type": "stream",
       "stream": "stdout",
       "text": [
        "\n",
        "23500/40000 [================>.............] - ETA: 0s - loss: 0.0313 - acc: 0.9889"
       ]
      },
      {
       "output_type": "stream",
       "stream": "stdout",
       "text": [
        "\n",
        "24500/40000 [=================>............] - ETA: 0s - loss: 0.0317 - acc: 0.9888"
       ]
      },
      {
       "output_type": "stream",
       "stream": "stdout",
       "text": [
        "\n",
        "25500/40000 [==================>...........] - ETA: 0s - loss: 0.0319 - acc: 0.9887"
       ]
      },
      {
       "output_type": "stream",
       "stream": "stdout",
       "text": [
        "\n",
        "26500/40000 [==================>...........] - ETA: 0s - loss: 0.0319 - acc: 0.9886"
       ]
      },
      {
       "output_type": "stream",
       "stream": "stdout",
       "text": [
        "\n",
        "27500/40000 [===================>..........] - ETA: 0s - loss: 0.0321 - acc: 0.9885"
       ]
      },
      {
       "output_type": "stream",
       "stream": "stdout",
       "text": [
        "\n",
        "28500/40000 [====================>.........] - ETA: 0s - loss: 0.0325 - acc: 0.9883"
       ]
      },
      {
       "output_type": "stream",
       "stream": "stdout",
       "text": [
        "\n",
        "29500/40000 [=====================>........] - ETA: 0s - loss: 0.0326 - acc: 0.9883"
       ]
      },
      {
       "output_type": "stream",
       "stream": "stdout",
       "text": [
        "\n",
        "30500/40000 [=====================>........] - ETA: 0s - loss: 0.0332 - acc: 0.9879"
       ]
      },
      {
       "output_type": "stream",
       "stream": "stdout",
       "text": [
        "\n",
        "31500/40000 [======================>.......] - ETA: 0s - loss: 0.0333 - acc: 0.9880"
       ]
      },
      {
       "output_type": "stream",
       "stream": "stdout",
       "text": [
        "\n",
        "32500/40000 [=======================>......] - ETA: 0s - loss: 0.0334 - acc: 0.9879"
       ]
      },
      {
       "output_type": "stream",
       "stream": "stdout",
       "text": [
        "\n",
        "33500/40000 [========================>.....] - ETA: 0s - loss: 0.0334 - acc: 0.9880"
       ]
      },
      {
       "output_type": "stream",
       "stream": "stdout",
       "text": [
        "\n",
        "34500/40000 [========================>.....] - ETA: 0s - loss: 0.0338 - acc: 0.9878"
       ]
      },
      {
       "output_type": "stream",
       "stream": "stdout",
       "text": [
        "\n",
        "35500/40000 [=========================>....] - ETA: 0s - loss: 0.0340 - acc: 0.9877"
       ]
      },
      {
       "output_type": "stream",
       "stream": "stdout",
       "text": [
        "\n",
        "36500/40000 [==========================>...] - ETA: 0s - loss: 0.0342 - acc: 0.9876"
       ]
      },
      {
       "output_type": "stream",
       "stream": "stdout",
       "text": [
        "\n",
        "37500/40000 [===========================>..] - ETA: 0s - loss: 0.0341 - acc: 0.9876"
       ]
      },
      {
       "output_type": "stream",
       "stream": "stdout",
       "text": [
        "\n",
        "38500/40000 [===========================>..] - ETA: 0s - loss: 0.0348 - acc: 0.9872"
       ]
      },
      {
       "output_type": "stream",
       "stream": "stdout",
       "text": [
        "\n",
        "39500/40000 [============================>.] - ETA: 0s - loss: 0.0354 - acc: 0.9871"
       ]
      },
      {
       "output_type": "stream",
       "stream": "stdout",
       "text": [
        "\n",
        "40000/40000 [==============================] - 3s 66us/step - loss: 0.0354 - acc: 0.9871 - val_loss: 0.5318 - val_acc: 0.8823\n"
       ]
      },
      {
       "output_type": "stream",
       "stream": "stdout",
       "text": [
        "Epoch 7/10\n",
        "\n",
        "  500/40000 [..............................] - ETA: 2s - loss: 0.0286 - acc: 0.9860"
       ]
      },
      {
       "output_type": "stream",
       "stream": "stdout",
       "text": [
        "\n",
        " 1500/40000 [>.............................] - ETA: 2s - loss: 0.0275 - acc: 0.9893"
       ]
      },
      {
       "output_type": "stream",
       "stream": "stdout",
       "text": [
        "\n",
        " 2500/40000 [>.............................] - ETA: 2s - loss: 0.0266 - acc: 0.9900"
       ]
      },
      {
       "output_type": "stream",
       "stream": "stdout",
       "text": [
        "\n",
        " 3500/40000 [=>............................] - ETA: 2s - loss: 0.0262 - acc: 0.9903"
       ]
      },
      {
       "output_type": "stream",
       "stream": "stdout",
       "text": [
        "\n",
        " 4500/40000 [==>...........................] - ETA: 1s - loss: 0.0263 - acc: 0.9907"
       ]
      },
      {
       "output_type": "stream",
       "stream": "stdout",
       "text": [
        "\n",
        " 5500/40000 [===>..........................] - ETA: 1s - loss: 0.0253 - acc: 0.9909"
       ]
      },
      {
       "output_type": "stream",
       "stream": "stdout",
       "text": [
        "\n",
        " 6500/40000 [===>..........................] - ETA: 1s - loss: 0.0256 - acc: 0.9902"
       ]
      },
      {
       "output_type": "stream",
       "stream": "stdout",
       "text": [
        "\n",
        " 7500/40000 [====>.........................] - ETA: 1s - loss: 0.0259 - acc: 0.9900"
       ]
      },
      {
       "output_type": "stream",
       "stream": "stdout",
       "text": [
        "\n",
        " 8500/40000 [=====>........................] - ETA: 1s - loss: 0.0252 - acc: 0.9905"
       ]
      },
      {
       "output_type": "stream",
       "stream": "stdout",
       "text": [
        "\n",
        " 9500/40000 [======>.......................] - ETA: 1s - loss: 0.0251 - acc: 0.9903"
       ]
      },
      {
       "output_type": "stream",
       "stream": "stdout",
       "text": [
        "\n",
        "10500/40000 [======>.......................] - ETA: 1s - loss: 0.0252 - acc: 0.9904"
       ]
      },
      {
       "output_type": "stream",
       "stream": "stdout",
       "text": [
        "\n",
        "11500/40000 [=======>......................] - ETA: 1s - loss: 0.0248 - acc: 0.9907"
       ]
      },
      {
       "output_type": "stream",
       "stream": "stdout",
       "text": [
        "\n",
        "12500/40000 [========>.....................] - ETA: 1s - loss: 0.0249 - acc: 0.9904"
       ]
      },
      {
       "output_type": "stream",
       "stream": "stdout",
       "text": [
        "\n",
        "13500/40000 [=========>....................] - ETA: 1s - loss: 0.0260 - acc: 0.9902"
       ]
      },
      {
       "output_type": "stream",
       "stream": "stdout",
       "text": [
        "\n",
        "14500/40000 [=========>....................] - ETA: 1s - loss: 0.0266 - acc: 0.9899"
       ]
      },
      {
       "output_type": "stream",
       "stream": "stdout",
       "text": [
        "\n",
        "15500/40000 [==========>...................] - ETA: 1s - loss: 0.0275 - acc: 0.9897"
       ]
      },
      {
       "output_type": "stream",
       "stream": "stdout",
       "text": [
        "\n",
        "16500/40000 [===========>..................] - ETA: 1s - loss: 0.0279 - acc: 0.9897"
       ]
      },
      {
       "output_type": "stream",
       "stream": "stdout",
       "text": [
        "\n",
        "17500/40000 [============>.................] - ETA: 1s - loss: 0.0279 - acc: 0.9898"
       ]
      },
      {
       "output_type": "stream",
       "stream": "stdout",
       "text": [
        "\n",
        "18500/40000 [============>.................] - ETA: 1s - loss: 0.0276 - acc: 0.9899"
       ]
      },
      {
       "output_type": "stream",
       "stream": "stdout",
       "text": [
        "\n",
        "19500/40000 [=============>................] - ETA: 1s - loss: 0.0279 - acc: 0.9898"
       ]
      },
      {
       "output_type": "stream",
       "stream": "stdout",
       "text": [
        "\n",
        "20500/40000 [==============>...............] - ETA: 1s - loss: 0.0277 - acc: 0.9898"
       ]
      },
      {
       "output_type": "stream",
       "stream": "stdout",
       "text": [
        "\n",
        "21500/40000 [===============>..............] - ETA: 1s - loss: 0.0283 - acc: 0.9896"
       ]
      },
      {
       "output_type": "stream",
       "stream": "stdout",
       "text": [
        "\n",
        "22500/40000 [===============>..............] - ETA: 0s - loss: 0.0285 - acc: 0.9896"
       ]
      },
      {
       "output_type": "stream",
       "stream": "stdout",
       "text": [
        "\n",
        "23500/40000 [================>.............] - ETA: 0s - loss: 0.0284 - acc: 0.9896"
       ]
      },
      {
       "output_type": "stream",
       "stream": "stdout",
       "text": [
        "\n",
        "24500/40000 [=================>............] - ETA: 0s - loss: 0.0281 - acc: 0.9896"
       ]
      },
      {
       "output_type": "stream",
       "stream": "stdout",
       "text": [
        "\n",
        "25500/40000 [==================>...........] - ETA: 0s - loss: 0.0279 - acc: 0.9897"
       ]
      },
      {
       "output_type": "stream",
       "stream": "stdout",
       "text": [
        "\n",
        "26500/40000 [==================>...........] - ETA: 0s - loss: 0.0280 - acc: 0.9896"
       ]
      },
      {
       "output_type": "stream",
       "stream": "stdout",
       "text": [
        "\n",
        "27500/40000 [===================>..........] - ETA: 0s - loss: 0.0278 - acc: 0.9897"
       ]
      },
      {
       "output_type": "stream",
       "stream": "stdout",
       "text": [
        "\n",
        "28500/40000 [====================>.........] - ETA: 0s - loss: 0.0278 - acc: 0.9896"
       ]
      },
      {
       "output_type": "stream",
       "stream": "stdout",
       "text": [
        "\n",
        "29500/40000 [=====================>........] - ETA: 0s - loss: 0.0280 - acc: 0.9895"
       ]
      },
      {
       "output_type": "stream",
       "stream": "stdout",
       "text": [
        "\n",
        "30500/40000 [=====================>........] - ETA: 0s - loss: 0.0282 - acc: 0.9895"
       ]
      },
      {
       "output_type": "stream",
       "stream": "stdout",
       "text": [
        "\n",
        "31500/40000 [======================>.......] - ETA: 0s - loss: 0.0279 - acc: 0.9895"
       ]
      },
      {
       "output_type": "stream",
       "stream": "stdout",
       "text": [
        "\n",
        "32500/40000 [=======================>......] - ETA: 0s - loss: 0.0279 - acc: 0.9895"
       ]
      },
      {
       "output_type": "stream",
       "stream": "stdout",
       "text": [
        "\n",
        "33500/40000 [========================>.....] - ETA: 0s - loss: 0.0280 - acc: 0.9895"
       ]
      },
      {
       "output_type": "stream",
       "stream": "stdout",
       "text": [
        "\n",
        "34500/40000 [========================>.....] - ETA: 0s - loss: 0.0282 - acc: 0.9895"
       ]
      },
      {
       "output_type": "stream",
       "stream": "stdout",
       "text": [
        "\n",
        "35500/40000 [=========================>....] - ETA: 0s - loss: 0.0280 - acc: 0.9894"
       ]
      },
      {
       "output_type": "stream",
       "stream": "stdout",
       "text": [
        "\n",
        "36500/40000 [==========================>...] - ETA: 0s - loss: 0.0282 - acc: 0.9893"
       ]
      },
      {
       "output_type": "stream",
       "stream": "stdout",
       "text": [
        "\n",
        "37500/40000 [===========================>..] - ETA: 0s - loss: 0.0284 - acc: 0.9892"
       ]
      },
      {
       "output_type": "stream",
       "stream": "stdout",
       "text": [
        "\n",
        "38500/40000 [===========================>..] - ETA: 0s - loss: 0.0284 - acc: 0.9892"
       ]
      },
      {
       "output_type": "stream",
       "stream": "stdout",
       "text": [
        "\n",
        "39500/40000 [============================>.] - ETA: 0s - loss: 0.0284 - acc: 0.9891"
       ]
      },
      {
       "output_type": "stream",
       "stream": "stdout",
       "text": [
        "\n",
        "40000/40000 [==============================] - 3s 65us/step - loss: 0.0283 - acc: 0.9892 - val_loss: 0.6245 - val_acc: 0.8827\n"
       ]
      },
      {
       "output_type": "stream",
       "stream": "stdout",
       "text": [
        "Epoch 8/10\n",
        "\n",
        "  500/40000 [..............................] - ETA: 2s - loss: 0.0434 - acc: 0.9860"
       ]
      },
      {
       "output_type": "stream",
       "stream": "stdout",
       "text": [
        "\n",
        " 1500/40000 [>.............................] - ETA: 2s - loss: 0.0352 - acc: 0.9860"
       ]
      },
      {
       "output_type": "stream",
       "stream": "stdout",
       "text": [
        "\n",
        " 2500/40000 [>.............................] - ETA: 2s - loss: 0.0308 - acc: 0.9864"
       ]
      },
      {
       "output_type": "stream",
       "stream": "stdout",
       "text": [
        "\n",
        " 3500/40000 [=>............................] - ETA: 2s - loss: 0.0286 - acc: 0.9877"
       ]
      },
      {
       "output_type": "stream",
       "stream": "stdout",
       "text": [
        "\n",
        " 4500/40000 [==>...........................] - ETA: 2s - loss: 0.0322 - acc: 0.9880"
       ]
      },
      {
       "output_type": "stream",
       "stream": "stdout",
       "text": [
        "\n",
        " 5500/40000 [===>..........................] - ETA: 1s - loss: 0.0321 - acc: 0.9876"
       ]
      },
      {
       "output_type": "stream",
       "stream": "stdout",
       "text": [
        "\n",
        " 6500/40000 [===>..........................] - ETA: 1s - loss: 0.0320 - acc: 0.9882"
       ]
      },
      {
       "output_type": "stream",
       "stream": "stdout",
       "text": [
        "\n",
        " 7500/40000 [====>.........................] - ETA: 1s - loss: 0.0305 - acc: 0.9889"
       ]
      },
      {
       "output_type": "stream",
       "stream": "stdout",
       "text": [
        "\n",
        " 8500/40000 [=====>........................] - ETA: 1s - loss: 0.0299 - acc: 0.9891"
       ]
      },
      {
       "output_type": "stream",
       "stream": "stdout",
       "text": [
        "\n",
        " 9500/40000 [======>.......................] - ETA: 1s - loss: 0.0289 - acc: 0.9895"
       ]
      },
      {
       "output_type": "stream",
       "stream": "stdout",
       "text": [
        "\n",
        "10500/40000 [======>.......................] - ETA: 1s - loss: 0.0277 - acc: 0.9898"
       ]
      },
      {
       "output_type": "stream",
       "stream": "stdout",
       "text": [
        "\n",
        "11500/40000 [=======>......................] - ETA: 1s - loss: 0.0281 - acc: 0.9897"
       ]
      },
      {
       "output_type": "stream",
       "stream": "stdout",
       "text": [
        "\n",
        "12500/40000 [========>.....................] - ETA: 1s - loss: 0.0279 - acc: 0.9898"
       ]
      },
      {
       "output_type": "stream",
       "stream": "stdout",
       "text": [
        "\n",
        "13500/40000 [=========>....................] - ETA: 1s - loss: 0.0280 - acc: 0.9897"
       ]
      },
      {
       "output_type": "stream",
       "stream": "stdout",
       "text": [
        "\n",
        "14500/40000 [=========>....................] - ETA: 1s - loss: 0.0285 - acc: 0.9897"
       ]
      },
      {
       "output_type": "stream",
       "stream": "stdout",
       "text": [
        "\n",
        "15500/40000 [==========>...................] - ETA: 1s - loss: 0.0291 - acc: 0.9894"
       ]
      },
      {
       "output_type": "stream",
       "stream": "stdout",
       "text": [
        "\n",
        "16500/40000 [===========>..................] - ETA: 1s - loss: 0.0293 - acc: 0.9895"
       ]
      },
      {
       "output_type": "stream",
       "stream": "stdout",
       "text": [
        "\n",
        "17500/40000 [============>.................] - ETA: 1s - loss: 0.0291 - acc: 0.9896"
       ]
      },
      {
       "output_type": "stream",
       "stream": "stdout",
       "text": [
        "\n",
        "18500/40000 [============>.................] - ETA: 1s - loss: 0.0293 - acc: 0.9896"
       ]
      },
      {
       "output_type": "stream",
       "stream": "stdout",
       "text": [
        "\n",
        "19500/40000 [=============>................] - ETA: 1s - loss: 0.0298 - acc: 0.9896"
       ]
      },
      {
       "output_type": "stream",
       "stream": "stdout",
       "text": [
        "\n",
        "20500/40000 [==============>...............] - ETA: 1s - loss: 0.0300 - acc: 0.9896"
       ]
      },
      {
       "output_type": "stream",
       "stream": "stdout",
       "text": [
        "\n",
        "21500/40000 [===============>..............] - ETA: 1s - loss: 0.0296 - acc: 0.9897"
       ]
      },
      {
       "output_type": "stream",
       "stream": "stdout",
       "text": [
        "\n",
        "22500/40000 [===============>..............] - ETA: 0s - loss: 0.0295 - acc: 0.9898"
       ]
      },
      {
       "output_type": "stream",
       "stream": "stdout",
       "text": [
        "\n",
        "23500/40000 [================>.............] - ETA: 0s - loss: 0.0293 - acc: 0.9898"
       ]
      },
      {
       "output_type": "stream",
       "stream": "stdout",
       "text": [
        "\n",
        "24500/40000 [=================>............] - ETA: 0s - loss: 0.0295 - acc: 0.9898"
       ]
      },
      {
       "output_type": "stream",
       "stream": "stdout",
       "text": [
        "\n",
        "25500/40000 [==================>...........] - ETA: 0s - loss: 0.0295 - acc: 0.9897"
       ]
      },
      {
       "output_type": "stream",
       "stream": "stdout",
       "text": [
        "\n",
        "26500/40000 [==================>...........] - ETA: 0s - loss: 0.0289 - acc: 0.9899"
       ]
      },
      {
       "output_type": "stream",
       "stream": "stdout",
       "text": [
        "\n",
        "27500/40000 [===================>..........] - ETA: 0s - loss: 0.0293 - acc: 0.9897"
       ]
      },
      {
       "output_type": "stream",
       "stream": "stdout",
       "text": [
        "\n",
        "28500/40000 [====================>.........] - ETA: 0s - loss: 0.0292 - acc: 0.9899"
       ]
      },
      {
       "output_type": "stream",
       "stream": "stdout",
       "text": [
        "\n",
        "29500/40000 [=====================>........] - ETA: 0s - loss: 0.0293 - acc: 0.9898"
       ]
      },
      {
       "output_type": "stream",
       "stream": "stdout",
       "text": [
        "\n",
        "30500/40000 [=====================>........] - ETA: 0s - loss: 0.0299 - acc: 0.9896"
       ]
      },
      {
       "output_type": "stream",
       "stream": "stdout",
       "text": [
        "\n",
        "31500/40000 [======================>.......] - ETA: 0s - loss: 0.0300 - acc: 0.9895"
       ]
      },
      {
       "output_type": "stream",
       "stream": "stdout",
       "text": [
        "\n",
        "32500/40000 [=======================>......] - ETA: 0s - loss: 0.0300 - acc: 0.9894"
       ]
      },
      {
       "output_type": "stream",
       "stream": "stdout",
       "text": [
        "\n",
        "33500/40000 [========================>.....] - ETA: 0s - loss: 0.0299 - acc: 0.9895"
       ]
      },
      {
       "output_type": "stream",
       "stream": "stdout",
       "text": [
        "\n",
        "34500/40000 [========================>.....] - ETA: 0s - loss: 0.0300 - acc: 0.9894"
       ]
      },
      {
       "output_type": "stream",
       "stream": "stdout",
       "text": [
        "\n",
        "35500/40000 [=========================>....] - ETA: 0s - loss: 0.0307 - acc: 0.9893"
       ]
      },
      {
       "output_type": "stream",
       "stream": "stdout",
       "text": [
        "\n",
        "36500/40000 [==========================>...] - ETA: 0s - loss: 0.0309 - acc: 0.9892"
       ]
      },
      {
       "output_type": "stream",
       "stream": "stdout",
       "text": [
        "\n",
        "37500/40000 [===========================>..] - ETA: 0s - loss: 0.0307 - acc: 0.9893"
       ]
      },
      {
       "output_type": "stream",
       "stream": "stdout",
       "text": [
        "\n",
        "38500/40000 [===========================>..] - ETA: 0s - loss: 0.0307 - acc: 0.9894"
       ]
      },
      {
       "output_type": "stream",
       "stream": "stdout",
       "text": [
        "\n",
        "39500/40000 [============================>.] - ETA: 0s - loss: 0.0305 - acc: 0.9894"
       ]
      },
      {
       "output_type": "stream",
       "stream": "stdout",
       "text": [
        "\n",
        "40000/40000 [==============================] - 3s 67us/step - loss: 0.0305 - acc: 0.9894 - val_loss: 0.5691 - val_acc: 0.8816\n"
       ]
      },
      {
       "output_type": "stream",
       "stream": "stdout",
       "text": [
        "Epoch 9/10\n",
        "\n",
        "  500/40000 [..............................] - ETA: 2s - loss: 0.0244 - acc: 0.9900"
       ]
      },
      {
       "output_type": "stream",
       "stream": "stdout",
       "text": [
        "\n",
        " 1500/40000 [>.............................] - ETA: 2s - loss: 0.0219 - acc: 0.9933"
       ]
      },
      {
       "output_type": "stream",
       "stream": "stdout",
       "text": [
        "\n",
        " 2500/40000 [>.............................] - ETA: 2s - loss: 0.0214 - acc: 0.9936"
       ]
      },
      {
       "output_type": "stream",
       "stream": "stdout",
       "text": [
        "\n",
        " 3500/40000 [=>............................] - ETA: 2s - loss: 0.0233 - acc: 0.9929"
       ]
      },
      {
       "output_type": "stream",
       "stream": "stdout",
       "text": [
        "\n",
        " 4500/40000 [==>...........................] - ETA: 1s - loss: 0.0206 - acc: 0.9938"
       ]
      },
      {
       "output_type": "stream",
       "stream": "stdout",
       "text": [
        "\n",
        " 5500/40000 [===>..........................] - ETA: 1s - loss: 0.0210 - acc: 0.9935"
       ]
      },
      {
       "output_type": "stream",
       "stream": "stdout",
       "text": [
        "\n",
        " 6500/40000 [===>..........................] - ETA: 1s - loss: 0.0214 - acc: 0.9932"
       ]
      },
      {
       "output_type": "stream",
       "stream": "stdout",
       "text": [
        "\n",
        " 7500/40000 [====>.........................] - ETA: 1s - loss: 0.0204 - acc: 0.9936"
       ]
      },
      {
       "output_type": "stream",
       "stream": "stdout",
       "text": [
        "\n",
        " 8500/40000 [=====>........................] - ETA: 1s - loss: 0.0208 - acc: 0.9931"
       ]
      },
      {
       "output_type": "stream",
       "stream": "stdout",
       "text": [
        "\n",
        " 9500/40000 [======>.......................] - ETA: 1s - loss: 0.0212 - acc: 0.9928"
       ]
      },
      {
       "output_type": "stream",
       "stream": "stdout",
       "text": [
        "\n",
        "10500/40000 [======>.......................] - ETA: 1s - loss: 0.0215 - acc: 0.9925"
       ]
      },
      {
       "output_type": "stream",
       "stream": "stdout",
       "text": [
        "\n",
        "11500/40000 [=======>......................] - ETA: 1s - loss: 0.0223 - acc: 0.9921"
       ]
      },
      {
       "output_type": "stream",
       "stream": "stdout",
       "text": [
        "\n",
        "12500/40000 [========>.....................] - ETA: 1s - loss: 0.0226 - acc: 0.9918"
       ]
      },
      {
       "output_type": "stream",
       "stream": "stdout",
       "text": [
        "\n",
        "13500/40000 [=========>....................] - ETA: 1s - loss: 0.0234 - acc: 0.9917"
       ]
      },
      {
       "output_type": "stream",
       "stream": "stdout",
       "text": [
        "\n",
        "14500/40000 [=========>....................] - ETA: 1s - loss: 0.0240 - acc: 0.9915"
       ]
      },
      {
       "output_type": "stream",
       "stream": "stdout",
       "text": [
        "\n",
        "15500/40000 [==========>...................] - ETA: 1s - loss: 0.0244 - acc: 0.9913"
       ]
      },
      {
       "output_type": "stream",
       "stream": "stdout",
       "text": [
        "\n",
        "16500/40000 [===========>..................] - ETA: 1s - loss: 0.0246 - acc: 0.9913"
       ]
      },
      {
       "output_type": "stream",
       "stream": "stdout",
       "text": [
        "\n",
        "17500/40000 [============>.................] - ETA: 1s - loss: 0.0254 - acc: 0.9906"
       ]
      },
      {
       "output_type": "stream",
       "stream": "stdout",
       "text": [
        "\n",
        "18500/40000 [============>.................] - ETA: 1s - loss: 0.0252 - acc: 0.9906"
       ]
      },
      {
       "output_type": "stream",
       "stream": "stdout",
       "text": [
        "\n",
        "19500/40000 [=============>................] - ETA: 1s - loss: 0.0257 - acc: 0.9906"
       ]
      },
      {
       "output_type": "stream",
       "stream": "stdout",
       "text": [
        "\n",
        "20500/40000 [==============>...............] - ETA: 1s - loss: 0.0253 - acc: 0.9907"
       ]
      },
      {
       "output_type": "stream",
       "stream": "stdout",
       "text": [
        "\n",
        "21500/40000 [===============>..............] - ETA: 1s - loss: 0.0264 - acc: 0.9904"
       ]
      },
      {
       "output_type": "stream",
       "stream": "stdout",
       "text": [
        "\n",
        "22500/40000 [===============>..............] - ETA: 0s - loss: 0.0267 - acc: 0.9904"
       ]
      },
      {
       "output_type": "stream",
       "stream": "stdout",
       "text": [
        "\n",
        "23500/40000 [================>.............] - ETA: 0s - loss: 0.0266 - acc: 0.9904"
       ]
      },
      {
       "output_type": "stream",
       "stream": "stdout",
       "text": [
        "\n",
        "24500/40000 [=================>............] - ETA: 0s - loss: 0.0269 - acc: 0.9902"
       ]
      },
      {
       "output_type": "stream",
       "stream": "stdout",
       "text": [
        "\n",
        "25500/40000 [==================>...........] - ETA: 0s - loss: 0.0268 - acc: 0.9903"
       ]
      },
      {
       "output_type": "stream",
       "stream": "stdout",
       "text": [
        "\n",
        "26500/40000 [==================>...........] - ETA: 0s - loss: 0.0270 - acc: 0.9902"
       ]
      },
      {
       "output_type": "stream",
       "stream": "stdout",
       "text": [
        "\n",
        "27500/40000 [===================>..........] - ETA: 0s - loss: 0.0270 - acc: 0.9902"
       ]
      },
      {
       "output_type": "stream",
       "stream": "stdout",
       "text": [
        "\n",
        "28500/40000 [====================>.........] - ETA: 0s - loss: 0.0269 - acc: 0.9904"
       ]
      },
      {
       "output_type": "stream",
       "stream": "stdout",
       "text": [
        "\n",
        "29500/40000 [=====================>........] - ETA: 0s - loss: 0.0267 - acc: 0.9904"
       ]
      },
      {
       "output_type": "stream",
       "stream": "stdout",
       "text": [
        "\n",
        "30500/40000 [=====================>........] - ETA: 0s - loss: 0.0266 - acc: 0.9904"
       ]
      },
      {
       "output_type": "stream",
       "stream": "stdout",
       "text": [
        "\n",
        "31500/40000 [======================>.......] - ETA: 0s - loss: 0.0265 - acc: 0.9904"
       ]
      },
      {
       "output_type": "stream",
       "stream": "stdout",
       "text": [
        "\n",
        "32500/40000 [=======================>......] - ETA: 0s - loss: 0.0265 - acc: 0.9904"
       ]
      },
      {
       "output_type": "stream",
       "stream": "stdout",
       "text": [
        "\n",
        "33500/40000 [========================>.....] - ETA: 0s - loss: 0.0269 - acc: 0.9902"
       ]
      },
      {
       "output_type": "stream",
       "stream": "stdout",
       "text": [
        "\n",
        "34500/40000 [========================>.....] - ETA: 0s - loss: 0.0272 - acc: 0.9901"
       ]
      },
      {
       "output_type": "stream",
       "stream": "stdout",
       "text": [
        "\n",
        "35500/40000 [=========================>....] - ETA: 0s - loss: 0.0270 - acc: 0.9901"
       ]
      },
      {
       "output_type": "stream",
       "stream": "stdout",
       "text": [
        "\n",
        "36500/40000 [==========================>...] - ETA: 0s - loss: 0.0273 - acc: 0.9900"
       ]
      },
      {
       "output_type": "stream",
       "stream": "stdout",
       "text": [
        "\n",
        "37500/40000 [===========================>..] - ETA: 0s - loss: 0.0275 - acc: 0.9899"
       ]
      },
      {
       "output_type": "stream",
       "stream": "stdout",
       "text": [
        "\n",
        "38500/40000 [===========================>..] - ETA: 0s - loss: 0.0277 - acc: 0.9898"
       ]
      },
      {
       "output_type": "stream",
       "stream": "stdout",
       "text": [
        "\n",
        "39500/40000 [============================>.] - ETA: 0s - loss: 0.0280 - acc: 0.9896"
       ]
      },
      {
       "output_type": "stream",
       "stream": "stdout",
       "text": [
        "\n",
        "40000/40000 [==============================] - 3s 66us/step - loss: 0.0278 - acc: 0.9896 - val_loss: 0.5952 - val_acc: 0.8806\n"
       ]
      },
      {
       "output_type": "stream",
       "stream": "stdout",
       "text": [
        "Epoch 10/10\n",
        "\n",
        "  500/40000 [..............................] - ETA: 2s - loss: 0.0296 - acc: 0.9900"
       ]
      },
      {
       "output_type": "stream",
       "stream": "stdout",
       "text": [
        "\n",
        " 1500/40000 [>.............................] - ETA: 2s - loss: 0.0218 - acc: 0.9940"
       ]
      },
      {
       "output_type": "stream",
       "stream": "stdout",
       "text": [
        "\n",
        " 2500/40000 [>.............................] - ETA: 2s - loss: 0.0223 - acc: 0.9924"
       ]
      },
      {
       "output_type": "stream",
       "stream": "stdout",
       "text": [
        "\n",
        " 3500/40000 [=>............................] - ETA: 2s - loss: 0.0233 - acc: 0.9926"
       ]
      },
      {
       "output_type": "stream",
       "stream": "stdout",
       "text": [
        "\n",
        " 4500/40000 [==>...........................] - ETA: 1s - loss: 0.0225 - acc: 0.9929"
       ]
      },
      {
       "output_type": "stream",
       "stream": "stdout",
       "text": [
        "\n",
        " 5500/40000 [===>..........................] - ETA: 1s - loss: 0.0224 - acc: 0.9925"
       ]
      },
      {
       "output_type": "stream",
       "stream": "stdout",
       "text": [
        "\n",
        " 6500/40000 [===>..........................] - ETA: 1s - loss: 0.0232 - acc: 0.9922"
       ]
      },
      {
       "output_type": "stream",
       "stream": "stdout",
       "text": [
        "\n",
        " 7500/40000 [====>.........................] - ETA: 1s - loss: 0.0244 - acc: 0.9911"
       ]
      },
      {
       "output_type": "stream",
       "stream": "stdout",
       "text": [
        "\n",
        " 8500/40000 [=====>........................] - ETA: 1s - loss: 0.0251 - acc: 0.9904"
       ]
      },
      {
       "output_type": "stream",
       "stream": "stdout",
       "text": [
        "\n",
        " 9500/40000 [======>.......................] - ETA: 1s - loss: 0.0243 - acc: 0.9904"
       ]
      },
      {
       "output_type": "stream",
       "stream": "stdout",
       "text": [
        "\n",
        "10500/40000 [======>.......................] - ETA: 1s - loss: 0.0250 - acc: 0.9906"
       ]
      },
      {
       "output_type": "stream",
       "stream": "stdout",
       "text": [
        "\n",
        "11500/40000 [=======>......................] - ETA: 1s - loss: 0.0248 - acc: 0.9905"
       ]
      },
      {
       "output_type": "stream",
       "stream": "stdout",
       "text": [
        "\n",
        "12500/40000 [========>.....................] - ETA: 1s - loss: 0.0240 - acc: 0.9908"
       ]
      },
      {
       "output_type": "stream",
       "stream": "stdout",
       "text": [
        "\n",
        "13500/40000 [=========>....................] - ETA: 1s - loss: 0.0232 - acc: 0.9911"
       ]
      },
      {
       "output_type": "stream",
       "stream": "stdout",
       "text": [
        "\n",
        "14500/40000 [=========>....................] - ETA: 1s - loss: 0.0231 - acc: 0.9912"
       ]
      },
      {
       "output_type": "stream",
       "stream": "stdout",
       "text": [
        "\n",
        "15500/40000 [==========>...................] - ETA: 1s - loss: 0.0228 - acc: 0.9913"
       ]
      },
      {
       "output_type": "stream",
       "stream": "stdout",
       "text": [
        "\n",
        "16500/40000 [===========>..................] - ETA: 1s - loss: 0.0229 - acc: 0.9913"
       ]
      },
      {
       "output_type": "stream",
       "stream": "stdout",
       "text": [
        "\n",
        "17500/40000 [============>.................] - ETA: 1s - loss: 0.0232 - acc: 0.9912"
       ]
      },
      {
       "output_type": "stream",
       "stream": "stdout",
       "text": [
        "\n",
        "18500/40000 [============>.................] - ETA: 1s - loss: 0.0228 - acc: 0.9914"
       ]
      },
      {
       "output_type": "stream",
       "stream": "stdout",
       "text": [
        "\n",
        "19500/40000 [=============>................] - ETA: 1s - loss: 0.0228 - acc: 0.9912"
       ]
      },
      {
       "output_type": "stream",
       "stream": "stdout",
       "text": [
        "\n",
        "20500/40000 [==============>...............] - ETA: 1s - loss: 0.0227 - acc: 0.9911"
       ]
      },
      {
       "output_type": "stream",
       "stream": "stdout",
       "text": [
        "\n",
        "21500/40000 [===============>..............] - ETA: 1s - loss: 0.0226 - acc: 0.9912"
       ]
      },
      {
       "output_type": "stream",
       "stream": "stdout",
       "text": [
        "\n",
        "22500/40000 [===============>..............] - ETA: 0s - loss: 0.0226 - acc: 0.9912"
       ]
      },
      {
       "output_type": "stream",
       "stream": "stdout",
       "text": [
        "\n",
        "23500/40000 [================>.............] - ETA: 0s - loss: 0.0231 - acc: 0.9910"
       ]
      },
      {
       "output_type": "stream",
       "stream": "stdout",
       "text": [
        "\n",
        "24500/40000 [=================>............] - ETA: 0s - loss: 0.0229 - acc: 0.9911"
       ]
      },
      {
       "output_type": "stream",
       "stream": "stdout",
       "text": [
        "\n",
        "25500/40000 [==================>...........] - ETA: 0s - loss: 0.0231 - acc: 0.9910"
       ]
      },
      {
       "output_type": "stream",
       "stream": "stdout",
       "text": [
        "\n",
        "26500/40000 [==================>...........] - ETA: 0s - loss: 0.0228 - acc: 0.9911"
       ]
      },
      {
       "output_type": "stream",
       "stream": "stdout",
       "text": [
        "\n",
        "27500/40000 [===================>..........] - ETA: 0s - loss: 0.0233 - acc: 0.9911"
       ]
      },
      {
       "output_type": "stream",
       "stream": "stdout",
       "text": [
        "\n",
        "28500/40000 [====================>.........] - ETA: 0s - loss: 0.0239 - acc: 0.9908"
       ]
      },
      {
       "output_type": "stream",
       "stream": "stdout",
       "text": [
        "\n",
        "29500/40000 [=====================>........] - ETA: 0s - loss: 0.0239 - acc: 0.9908"
       ]
      },
      {
       "output_type": "stream",
       "stream": "stdout",
       "text": [
        "\n",
        "30500/40000 [=====================>........] - ETA: 0s - loss: 0.0237 - acc: 0.9909"
       ]
      },
      {
       "output_type": "stream",
       "stream": "stdout",
       "text": [
        "\n",
        "31500/40000 [======================>.......] - ETA: 0s - loss: 0.0244 - acc: 0.9905"
       ]
      },
      {
       "output_type": "stream",
       "stream": "stdout",
       "text": [
        "\n",
        "32500/40000 [=======================>......] - ETA: 0s - loss: 0.0244 - acc: 0.9906"
       ]
      },
      {
       "output_type": "stream",
       "stream": "stdout",
       "text": [
        "\n",
        "33500/40000 [========================>.....] - ETA: 0s - loss: 0.0247 - acc: 0.9905"
       ]
      },
      {
       "output_type": "stream",
       "stream": "stdout",
       "text": [
        "\n",
        "34500/40000 [========================>.....] - ETA: 0s - loss: 0.0246 - acc: 0.9906"
       ]
      },
      {
       "output_type": "stream",
       "stream": "stdout",
       "text": [
        "\n",
        "35500/40000 [=========================>....] - ETA: 0s - loss: 0.0248 - acc: 0.9905"
       ]
      },
      {
       "output_type": "stream",
       "stream": "stdout",
       "text": [
        "\n",
        "36500/40000 [==========================>...] - ETA: 0s - loss: 0.0248 - acc: 0.9905"
       ]
      },
      {
       "output_type": "stream",
       "stream": "stdout",
       "text": [
        "\n",
        "37500/40000 [===========================>..] - ETA: 0s - loss: 0.0247 - acc: 0.9906"
       ]
      },
      {
       "output_type": "stream",
       "stream": "stdout",
       "text": [
        "\n",
        "38500/40000 [===========================>..] - ETA: 0s - loss: 0.0249 - acc: 0.9905"
       ]
      },
      {
       "output_type": "stream",
       "stream": "stdout",
       "text": [
        "\n",
        "39500/40000 [============================>.] - ETA: 0s - loss: 0.0256 - acc: 0.9904"
       ]
      },
      {
       "output_type": "stream",
       "stream": "stdout",
       "text": [
        "\n",
        "40000/40000 [==============================] - 3s 66us/step - loss: 0.0257 - acc: 0.9904 - val_loss: 0.5963 - val_acc: 0.8837\n"
       ]
      },
      {
       "output_type": "stream",
       "stream": "stdout",
       "text": [
        "Test-Accuracy: 0.8833399999141693\n"
       ]
      }
     ],
     "prompt_number": 35
    },
    {
     "cell_type": "code",
     "collapsed": false,
     "input": [],
     "language": "python",
     "metadata": {},
     "outputs": [],
     "prompt_number": 21
    },
    {
     "cell_type": "code",
     "collapsed": false,
     "input": [],
     "language": "python",
     "metadata": {},
     "outputs": []
    }
   ],
   "metadata": {}
  }
 ]
}